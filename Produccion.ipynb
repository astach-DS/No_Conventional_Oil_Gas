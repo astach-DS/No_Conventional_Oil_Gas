{
 "cells": [
  {
   "cell_type": "code",
   "execution_count": 1,
   "metadata": {},
   "outputs": [],
   "source": [
    "# Importo Librerías\r\n",
    "import pandas as pd\r\n",
    "import numpy as np\r\n",
    "import matplotlib.pyplot as plt"
   ]
  },
  {
   "cell_type": "code",
   "execution_count": 2,
   "metadata": {},
   "outputs": [],
   "source": [
    "# Cargo la data\r\n",
    "data = pd.read_csv('Produccion pozos no convencional.csv')"
   ]
  },
  {
   "cell_type": "code",
   "execution_count": 3,
   "metadata": {},
   "outputs": [
    {
     "output_type": "execute_result",
     "data": {
      "text/plain": [
       "(175764, 40)"
      ]
     },
     "metadata": {},
     "execution_count": 3
    }
   ],
   "source": [
    "# Cantidad de registros\r\n",
    "data.shape"
   ]
  },
  {
   "cell_type": "code",
   "execution_count": 4,
   "metadata": {},
   "outputs": [
    {
     "output_type": "execute_result",
     "data": {
      "text/plain": [
       "idempresa                      0\n",
       "anio                           0\n",
       "mes                            0\n",
       "idpozo                         0\n",
       "prod_pet                       0\n",
       "prod_gas                       0\n",
       "prod_agua                      0\n",
       "iny_agua                       0\n",
       "iny_gas                        0\n",
       "iny_co2                        0\n",
       "iny_otro                       0\n",
       "tef                            0\n",
       "vida_util                 171933\n",
       "tipoextraccion               392\n",
       "tipoestado                   392\n",
       "tipopozo                     392\n",
       "observaciones             166497\n",
       "fechaingreso                   0\n",
       "rectificado                    0\n",
       "habilitado                     0\n",
       "idusuario                      0\n",
       "empresa                        0\n",
       "sigla                          0\n",
       "formprod                       0\n",
       "profundidad                    0\n",
       "formacion                      0\n",
       "idareapermisoconcesion         0\n",
       "areapermisoconcesion           0\n",
       "idareayacimiento               0\n",
       "areayacimiento                 0\n",
       "cuenca                         0\n",
       "provincia                      0\n",
       "coordenadax                    0\n",
       "coordenaday                    0\n",
       "tipo_de_recurso                0\n",
       "proyecto                       0\n",
       "clasificacion               1049\n",
       "subclasificacion            1049\n",
       "sub_tipo_recurso               0\n",
       "fecha_data                     0\n",
       "dtype: int64"
      ]
     },
     "metadata": {},
     "execution_count": 4
    }
   ],
   "source": [
    "# Cantidad de nulos por columnas\r\n",
    "data.isnull().sum()"
   ]
  },
  {
   "cell_type": "code",
   "execution_count": 5,
   "metadata": {},
   "outputs": [
    {
     "output_type": "execute_result",
     "data": {
      "text/plain": [
       "                                                    0  \\\n",
       "idempresa                                        YSUR   \n",
       "anio                                             2015   \n",
       "mes                                                 1   \n",
       "idpozo                                         135690   \n",
       "prod_pet                                         34.4   \n",
       "prod_gas                                       402.29   \n",
       "prod_agua                                       19.31   \n",
       "iny_agua                                          0.0   \n",
       "iny_gas                                           0.0   \n",
       "iny_co2                                           0.0   \n",
       "iny_otro                                          0.0   \n",
       "tef                                             30.96   \n",
       "vida_util                                         NaN   \n",
       "tipoextraccion                      Surgencia Natural   \n",
       "tipoestado                        Extracción Efectiva   \n",
       "tipopozo                                     Gasífero   \n",
       "observaciones                                     NaN   \n",
       "fechaingreso               2015-02-26 13:35:35.533458   \n",
       "rectificado                                         f   \n",
       "habilitado                                          t   \n",
       "idusuario                                           5   \n",
       "empresa                 YSUR ENERGÍA ARGENTINA S.R.L.   \n",
       "sigla                               APA.RN.EFO-104(d)   \n",
       "formprod                                         LAJA   \n",
       "profundidad                                    3822.0   \n",
       "formacion                                       lajas   \n",
       "idareapermisoconcesion                            FEO   \n",
       "areapermisoconcesion           ESTACION FERNANDEZ ORO   \n",
       "idareayacimiento                                 Z155   \n",
       "areayacimiento                 ESTACION FERNANDEZ ORO   \n",
       "cuenca                                       NEUQUINA   \n",
       "provincia                                   Rio Negro   \n",
       "coordenadax                                -67.867378   \n",
       "coordenaday                                -39.012811   \n",
       "tipo_de_recurso                       NO CONVENCIONAL   \n",
       "proyecto                                     GAS PLUS   \n",
       "clasificacion                             EXPLOTACION   \n",
       "subclasificacion                           DESARROLLO   \n",
       "sub_tipo_recurso                                TIGHT   \n",
       "fecha_data                                 2015-01-31   \n",
       "\n",
       "                                                    1  \\\n",
       "idempresa                                        YSUR   \n",
       "anio                                             2015   \n",
       "mes                                                 1   \n",
       "idpozo                                         136723   \n",
       "prod_pet                                        30.46   \n",
       "prod_gas                                       347.22   \n",
       "prod_agua                                       11.69   \n",
       "iny_agua                                          0.0   \n",
       "iny_gas                                           0.0   \n",
       "iny_co2                                           0.0   \n",
       "iny_otro                                          0.0   \n",
       "tef                                             30.96   \n",
       "vida_util                                         NaN   \n",
       "tipoextraccion                      Surgencia Natural   \n",
       "tipoestado                        Extracción Efectiva   \n",
       "tipopozo                                     Gasífero   \n",
       "observaciones                                     NaN   \n",
       "fechaingreso               2015-02-26 13:35:35.533458   \n",
       "rectificado                                         f   \n",
       "habilitado                                          t   \n",
       "idusuario                                           5   \n",
       "empresa                 YSUR ENERGÍA ARGENTINA S.R.L.   \n",
       "sigla                               APA.RN.EFO-105(d)   \n",
       "formprod                                         LAJA   \n",
       "profundidad                                    3828.0   \n",
       "formacion                                       lajas   \n",
       "idareapermisoconcesion                            FEO   \n",
       "areapermisoconcesion           ESTACION FERNANDEZ ORO   \n",
       "idareayacimiento                                 Z155   \n",
       "areayacimiento                 ESTACION FERNANDEZ ORO   \n",
       "cuenca                                       NEUQUINA   \n",
       "provincia                                   Rio Negro   \n",
       "coordenadax                                -67.863027   \n",
       "coordenaday                                -39.013518   \n",
       "tipo_de_recurso                       NO CONVENCIONAL   \n",
       "proyecto                                     GAS PLUS   \n",
       "clasificacion                             EXPLOTACION   \n",
       "subclasificacion                           DESARROLLO   \n",
       "sub_tipo_recurso                                TIGHT   \n",
       "fecha_data                                 2015-01-31   \n",
       "\n",
       "                                                    2  \\\n",
       "idempresa                                        YSUR   \n",
       "anio                                             2015   \n",
       "mes                                                 1   \n",
       "idpozo                                         134776   \n",
       "prod_pet                                       146.87   \n",
       "prod_gas                                      1191.95   \n",
       "prod_agua                                       32.56   \n",
       "iny_agua                                          0.0   \n",
       "iny_gas                                           0.0   \n",
       "iny_co2                                           0.0   \n",
       "iny_otro                                          0.0   \n",
       "tef                                             30.12   \n",
       "vida_util                                         NaN   \n",
       "tipoextraccion                      Surgencia Natural   \n",
       "tipoestado                        Extracción Efectiva   \n",
       "tipopozo                                     Gasífero   \n",
       "observaciones                                     NaN   \n",
       "fechaingreso               2015-02-26 13:35:35.533458   \n",
       "rectificado                                         f   \n",
       "habilitado                                          t   \n",
       "idusuario                                           5   \n",
       "empresa                 YSUR ENERGÍA ARGENTINA S.R.L.   \n",
       "sigla                               APA.RN.EFO-115(d)   \n",
       "formprod                                         LAJA   \n",
       "profundidad                                    3838.0   \n",
       "formacion                                       lajas   \n",
       "idareapermisoconcesion                            FEO   \n",
       "areapermisoconcesion           ESTACION FERNANDEZ ORO   \n",
       "idareayacimiento                                 Z155   \n",
       "areayacimiento                 ESTACION FERNANDEZ ORO   \n",
       "cuenca                                       NEUQUINA   \n",
       "provincia                                   Rio Negro   \n",
       "coordenadax                                -67.850056   \n",
       "coordenaday                                -39.020557   \n",
       "tipo_de_recurso                       NO CONVENCIONAL   \n",
       "proyecto                                     GAS PLUS   \n",
       "clasificacion                             EXPLOTACION   \n",
       "subclasificacion                           DESARROLLO   \n",
       "sub_tipo_recurso                                TIGHT   \n",
       "fecha_data                                 2015-01-31   \n",
       "\n",
       "                                                    3  \\\n",
       "idempresa                                        YSUR   \n",
       "anio                                             2015   \n",
       "mes                                                 1   \n",
       "idpozo                                         135584   \n",
       "prod_pet                                        67.92   \n",
       "prod_gas                                       673.12   \n",
       "prod_agua                                       27.17   \n",
       "iny_agua                                          0.0   \n",
       "iny_gas                                           0.0   \n",
       "iny_co2                                           0.0   \n",
       "iny_otro                                          0.0   \n",
       "tef                                             29.69   \n",
       "vida_util                                         NaN   \n",
       "tipoextraccion                      Surgencia Natural   \n",
       "tipoestado                        Extracción Efectiva   \n",
       "tipopozo                                     Gasífero   \n",
       "observaciones                                     NaN   \n",
       "fechaingreso               2015-02-26 13:35:35.533458   \n",
       "rectificado                                         f   \n",
       "habilitado                                          t   \n",
       "idusuario                                           5   \n",
       "empresa                 YSUR ENERGÍA ARGENTINA S.R.L.   \n",
       "sigla                               APA.RN.EFO-119(d)   \n",
       "formprod                                         LAJA   \n",
       "profundidad                                    3813.0   \n",
       "formacion                                       lajas   \n",
       "idareapermisoconcesion                            FEO   \n",
       "areapermisoconcesion           ESTACION FERNANDEZ ORO   \n",
       "idareayacimiento                                 Z155   \n",
       "areayacimiento                 ESTACION FERNANDEZ ORO   \n",
       "cuenca                                       NEUQUINA   \n",
       "provincia                                   Rio Negro   \n",
       "coordenadax                                -67.850856   \n",
       "coordenaday                                -39.016438   \n",
       "tipo_de_recurso                       NO CONVENCIONAL   \n",
       "proyecto                                     GAS PLUS   \n",
       "clasificacion                             EXPLOTACION   \n",
       "subclasificacion                           DESARROLLO   \n",
       "sub_tipo_recurso                                TIGHT   \n",
       "fecha_data                                 2015-01-31   \n",
       "\n",
       "                                                    4  \n",
       "idempresa                                        YSUR  \n",
       "anio                                             2015  \n",
       "mes                                                 1  \n",
       "idpozo                                         131719  \n",
       "prod_pet                                         5.24  \n",
       "prod_gas                                      1879.82  \n",
       "prod_agua                                        1.59  \n",
       "iny_agua                                          0.0  \n",
       "iny_gas                                           0.0  \n",
       "iny_co2                                           0.0  \n",
       "iny_otro                                          0.0  \n",
       "tef                                              31.0  \n",
       "vida_util                                         NaN  \n",
       "tipoextraccion                      Surgencia Natural  \n",
       "tipoestado                        Extracción Efectiva  \n",
       "tipopozo                                     Gasífero  \n",
       "observaciones                                     NaN  \n",
       "fechaingreso               2015-02-26 13:35:35.533458  \n",
       "rectificado                                         f  \n",
       "habilitado                                          t  \n",
       "idusuario                                           5  \n",
       "empresa                 YSUR ENERGÍA ARGENTINA S.R.L.  \n",
       "sigla                                 AEA.NQ.Gu-1176d  \n",
       "formprod                                         PREC  \n",
       "profundidad                                    2592.0  \n",
       "formacion                                     precuyo  \n",
       "idareapermisoconcesion                            NDD  \n",
       "areapermisoconcesion            AL NORTE DE LA DORSAL  \n",
       "idareayacimiento                                  GUA  \n",
       "areayacimiento                                GUANACO  \n",
       "cuenca                                       NEUQUINA  \n",
       "provincia                                     Neuquén  \n",
       "coordenadax                                -69.249998  \n",
       "coordenaday                                -38.865033  \n",
       "tipo_de_recurso                       NO CONVENCIONAL  \n",
       "proyecto                                     GAS PLUS  \n",
       "clasificacion                             EXPLOTACION  \n",
       "subclasificacion                           DESARROLLO  \n",
       "sub_tipo_recurso                                TIGHT  \n",
       "fecha_data                                 2015-01-31  "
      ],
      "text/html": "<div>\n<style scoped>\n    .dataframe tbody tr th:only-of-type {\n        vertical-align: middle;\n    }\n\n    .dataframe tbody tr th {\n        vertical-align: top;\n    }\n\n    .dataframe thead th {\n        text-align: right;\n    }\n</style>\n<table border=\"1\" class=\"dataframe\">\n  <thead>\n    <tr style=\"text-align: right;\">\n      <th></th>\n      <th>0</th>\n      <th>1</th>\n      <th>2</th>\n      <th>3</th>\n      <th>4</th>\n    </tr>\n  </thead>\n  <tbody>\n    <tr>\n      <th>idempresa</th>\n      <td>YSUR</td>\n      <td>YSUR</td>\n      <td>YSUR</td>\n      <td>YSUR</td>\n      <td>YSUR</td>\n    </tr>\n    <tr>\n      <th>anio</th>\n      <td>2015</td>\n      <td>2015</td>\n      <td>2015</td>\n      <td>2015</td>\n      <td>2015</td>\n    </tr>\n    <tr>\n      <th>mes</th>\n      <td>1</td>\n      <td>1</td>\n      <td>1</td>\n      <td>1</td>\n      <td>1</td>\n    </tr>\n    <tr>\n      <th>idpozo</th>\n      <td>135690</td>\n      <td>136723</td>\n      <td>134776</td>\n      <td>135584</td>\n      <td>131719</td>\n    </tr>\n    <tr>\n      <th>prod_pet</th>\n      <td>34.4</td>\n      <td>30.46</td>\n      <td>146.87</td>\n      <td>67.92</td>\n      <td>5.24</td>\n    </tr>\n    <tr>\n      <th>prod_gas</th>\n      <td>402.29</td>\n      <td>347.22</td>\n      <td>1191.95</td>\n      <td>673.12</td>\n      <td>1879.82</td>\n    </tr>\n    <tr>\n      <th>prod_agua</th>\n      <td>19.31</td>\n      <td>11.69</td>\n      <td>32.56</td>\n      <td>27.17</td>\n      <td>1.59</td>\n    </tr>\n    <tr>\n      <th>iny_agua</th>\n      <td>0.0</td>\n      <td>0.0</td>\n      <td>0.0</td>\n      <td>0.0</td>\n      <td>0.0</td>\n    </tr>\n    <tr>\n      <th>iny_gas</th>\n      <td>0.0</td>\n      <td>0.0</td>\n      <td>0.0</td>\n      <td>0.0</td>\n      <td>0.0</td>\n    </tr>\n    <tr>\n      <th>iny_co2</th>\n      <td>0.0</td>\n      <td>0.0</td>\n      <td>0.0</td>\n      <td>0.0</td>\n      <td>0.0</td>\n    </tr>\n    <tr>\n      <th>iny_otro</th>\n      <td>0.0</td>\n      <td>0.0</td>\n      <td>0.0</td>\n      <td>0.0</td>\n      <td>0.0</td>\n    </tr>\n    <tr>\n      <th>tef</th>\n      <td>30.96</td>\n      <td>30.96</td>\n      <td>30.12</td>\n      <td>29.69</td>\n      <td>31.0</td>\n    </tr>\n    <tr>\n      <th>vida_util</th>\n      <td>NaN</td>\n      <td>NaN</td>\n      <td>NaN</td>\n      <td>NaN</td>\n      <td>NaN</td>\n    </tr>\n    <tr>\n      <th>tipoextraccion</th>\n      <td>Surgencia Natural</td>\n      <td>Surgencia Natural</td>\n      <td>Surgencia Natural</td>\n      <td>Surgencia Natural</td>\n      <td>Surgencia Natural</td>\n    </tr>\n    <tr>\n      <th>tipoestado</th>\n      <td>Extracción Efectiva</td>\n      <td>Extracción Efectiva</td>\n      <td>Extracción Efectiva</td>\n      <td>Extracción Efectiva</td>\n      <td>Extracción Efectiva</td>\n    </tr>\n    <tr>\n      <th>tipopozo</th>\n      <td>Gasífero</td>\n      <td>Gasífero</td>\n      <td>Gasífero</td>\n      <td>Gasífero</td>\n      <td>Gasífero</td>\n    </tr>\n    <tr>\n      <th>observaciones</th>\n      <td>NaN</td>\n      <td>NaN</td>\n      <td>NaN</td>\n      <td>NaN</td>\n      <td>NaN</td>\n    </tr>\n    <tr>\n      <th>fechaingreso</th>\n      <td>2015-02-26 13:35:35.533458</td>\n      <td>2015-02-26 13:35:35.533458</td>\n      <td>2015-02-26 13:35:35.533458</td>\n      <td>2015-02-26 13:35:35.533458</td>\n      <td>2015-02-26 13:35:35.533458</td>\n    </tr>\n    <tr>\n      <th>rectificado</th>\n      <td>f</td>\n      <td>f</td>\n      <td>f</td>\n      <td>f</td>\n      <td>f</td>\n    </tr>\n    <tr>\n      <th>habilitado</th>\n      <td>t</td>\n      <td>t</td>\n      <td>t</td>\n      <td>t</td>\n      <td>t</td>\n    </tr>\n    <tr>\n      <th>idusuario</th>\n      <td>5</td>\n      <td>5</td>\n      <td>5</td>\n      <td>5</td>\n      <td>5</td>\n    </tr>\n    <tr>\n      <th>empresa</th>\n      <td>YSUR ENERGÍA ARGENTINA S.R.L.</td>\n      <td>YSUR ENERGÍA ARGENTINA S.R.L.</td>\n      <td>YSUR ENERGÍA ARGENTINA S.R.L.</td>\n      <td>YSUR ENERGÍA ARGENTINA S.R.L.</td>\n      <td>YSUR ENERGÍA ARGENTINA S.R.L.</td>\n    </tr>\n    <tr>\n      <th>sigla</th>\n      <td>APA.RN.EFO-104(d)</td>\n      <td>APA.RN.EFO-105(d)</td>\n      <td>APA.RN.EFO-115(d)</td>\n      <td>APA.RN.EFO-119(d)</td>\n      <td>AEA.NQ.Gu-1176d</td>\n    </tr>\n    <tr>\n      <th>formprod</th>\n      <td>LAJA</td>\n      <td>LAJA</td>\n      <td>LAJA</td>\n      <td>LAJA</td>\n      <td>PREC</td>\n    </tr>\n    <tr>\n      <th>profundidad</th>\n      <td>3822.0</td>\n      <td>3828.0</td>\n      <td>3838.0</td>\n      <td>3813.0</td>\n      <td>2592.0</td>\n    </tr>\n    <tr>\n      <th>formacion</th>\n      <td>lajas</td>\n      <td>lajas</td>\n      <td>lajas</td>\n      <td>lajas</td>\n      <td>precuyo</td>\n    </tr>\n    <tr>\n      <th>idareapermisoconcesion</th>\n      <td>FEO</td>\n      <td>FEO</td>\n      <td>FEO</td>\n      <td>FEO</td>\n      <td>NDD</td>\n    </tr>\n    <tr>\n      <th>areapermisoconcesion</th>\n      <td>ESTACION FERNANDEZ ORO</td>\n      <td>ESTACION FERNANDEZ ORO</td>\n      <td>ESTACION FERNANDEZ ORO</td>\n      <td>ESTACION FERNANDEZ ORO</td>\n      <td>AL NORTE DE LA DORSAL</td>\n    </tr>\n    <tr>\n      <th>idareayacimiento</th>\n      <td>Z155</td>\n      <td>Z155</td>\n      <td>Z155</td>\n      <td>Z155</td>\n      <td>GUA</td>\n    </tr>\n    <tr>\n      <th>areayacimiento</th>\n      <td>ESTACION FERNANDEZ ORO</td>\n      <td>ESTACION FERNANDEZ ORO</td>\n      <td>ESTACION FERNANDEZ ORO</td>\n      <td>ESTACION FERNANDEZ ORO</td>\n      <td>GUANACO</td>\n    </tr>\n    <tr>\n      <th>cuenca</th>\n      <td>NEUQUINA</td>\n      <td>NEUQUINA</td>\n      <td>NEUQUINA</td>\n      <td>NEUQUINA</td>\n      <td>NEUQUINA</td>\n    </tr>\n    <tr>\n      <th>provincia</th>\n      <td>Rio Negro</td>\n      <td>Rio Negro</td>\n      <td>Rio Negro</td>\n      <td>Rio Negro</td>\n      <td>Neuquén</td>\n    </tr>\n    <tr>\n      <th>coordenadax</th>\n      <td>-67.867378</td>\n      <td>-67.863027</td>\n      <td>-67.850056</td>\n      <td>-67.850856</td>\n      <td>-69.249998</td>\n    </tr>\n    <tr>\n      <th>coordenaday</th>\n      <td>-39.012811</td>\n      <td>-39.013518</td>\n      <td>-39.020557</td>\n      <td>-39.016438</td>\n      <td>-38.865033</td>\n    </tr>\n    <tr>\n      <th>tipo_de_recurso</th>\n      <td>NO CONVENCIONAL</td>\n      <td>NO CONVENCIONAL</td>\n      <td>NO CONVENCIONAL</td>\n      <td>NO CONVENCIONAL</td>\n      <td>NO CONVENCIONAL</td>\n    </tr>\n    <tr>\n      <th>proyecto</th>\n      <td>GAS PLUS</td>\n      <td>GAS PLUS</td>\n      <td>GAS PLUS</td>\n      <td>GAS PLUS</td>\n      <td>GAS PLUS</td>\n    </tr>\n    <tr>\n      <th>clasificacion</th>\n      <td>EXPLOTACION</td>\n      <td>EXPLOTACION</td>\n      <td>EXPLOTACION</td>\n      <td>EXPLOTACION</td>\n      <td>EXPLOTACION</td>\n    </tr>\n    <tr>\n      <th>subclasificacion</th>\n      <td>DESARROLLO</td>\n      <td>DESARROLLO</td>\n      <td>DESARROLLO</td>\n      <td>DESARROLLO</td>\n      <td>DESARROLLO</td>\n    </tr>\n    <tr>\n      <th>sub_tipo_recurso</th>\n      <td>TIGHT</td>\n      <td>TIGHT</td>\n      <td>TIGHT</td>\n      <td>TIGHT</td>\n      <td>TIGHT</td>\n    </tr>\n    <tr>\n      <th>fecha_data</th>\n      <td>2015-01-31</td>\n      <td>2015-01-31</td>\n      <td>2015-01-31</td>\n      <td>2015-01-31</td>\n      <td>2015-01-31</td>\n    </tr>\n  </tbody>\n</table>\n</div>"
     },
     "metadata": {},
     "execution_count": 5
    }
   ],
   "source": [
    "# Exploro la data\r\n",
    "data.head().T"
   ]
  },
  {
   "cell_type": "code",
   "execution_count": 6,
   "metadata": {},
   "outputs": [],
   "source": [
    "# Ordeno la data por idpozo, anio y mes\r\n",
    "data = data.sort_values(by=['idpozo','anio','mes']).reset_index(drop=True)"
   ]
  },
  {
   "cell_type": "code",
   "execution_count": 7,
   "metadata": {},
   "outputs": [
    {
     "output_type": "execute_result",
     "data": {
      "text/plain": [
       "YPF S.A.                                                   99208\n",
       "CAPEX S.A.                                                 10388\n",
       "PLUSPETROL S.A.                                             9475\n",
       "YSUR ENERGÍA ARGENTINA S.R.L.                               7721\n",
       "TOTAL AUSTRAL S.A.                                          6707\n",
       "PETROBRAS ARGENTINA S.A.                                    6527\n",
       "APACHE ENERGIA ARGENTINA S.R.L.                             6448\n",
       "PAN AMERICAN ENERGY (SUCURSAL ARGENTINA) LLC                4806\n",
       "COMPAÑÍA GENERAL DE COMBUSTIBLES S.A.                       4352\n",
       "PAN AMERICAN ENERGY SL                                      4189\n",
       "TECPETROL S.A.                                              4019\n",
       "PAMPA ENERGIA S.A.                                          2954\n",
       "OILSTONE ENERGIA S.A.                                       1118\n",
       "SHELL ARGENTINA S.A.                                        1014\n",
       "EXXONMOBIL EXPLORATION ARGENTINA S.R.L.                      924\n",
       "PETROLERA ENTRE LOMAS S.A.                                   911\n",
       "O&G DEVELOPMENTS LTD S.A.                                    896\n",
       "PETROLERA EL TREBOL S.A.                                     649\n",
       "CHEVRON ARGENTINA S.R.L.                                     567\n",
       "VISTA OIL & GAS ARGENTINA SAU                                532\n",
       "WINTERSHALL ENERGIA S.A.                                     412\n",
       "ENERGICON S.A.                                               270\n",
       "WINTERSHALL DEA ARGENTINA S.A                                266\n",
       "KILWER S.A.                                                  257\n",
       "AMERICAS PETROGAS ARGENTINA S.A.                             233\n",
       "MEDANITO S.A.                                                203\n",
       "PRESIDENT PETROLEUM S.A.                                     167\n",
       "Vista Oil & Gas Argentina SA                                 140\n",
       "ROCH S.A.                                                    106\n",
       "GAS Y PETROLEO DEL NEUQUEN S.A.                               79\n",
       "ARGENTA ENERGIA S.A.                                          68\n",
       "GRECOIL y CIA. S.R.L.                                         59\n",
       "MADALENA ENERGY ARGENTINA SRL                                 40\n",
       "MADALENA AUSTRAL S.A.                                         31\n",
       "APCO OIL AND GAS INTERNATIONAL INC (SUCURSAL ARGENTINA)       28\n",
       "Name: empresa, dtype: int64"
      ]
     },
     "metadata": {},
     "execution_count": 7
    }
   ],
   "source": [
    "# Cantidad de empresas que producen\r\n",
    "data['empresa'].value_counts()"
   ]
  },
  {
   "cell_type": "code",
   "execution_count": 8,
   "metadata": {},
   "outputs": [
    {
     "output_type": "execute_result",
     "data": {
      "text/plain": [
       "                                                 0  \\\n",
       "idempresa                                      YPF   \n",
       "anio                                          2016   \n",
       "mes                                             11   \n",
       "idpozo                                       72206   \n",
       "prod_pet                                      4.47   \n",
       "prod_gas                                     532.2   \n",
       "prod_agua                                     1.27   \n",
       "iny_agua                                       0.0   \n",
       "iny_gas                                        0.0   \n",
       "iny_co2                                        0.0   \n",
       "iny_otro                                       0.0   \n",
       "tef                                          25.29   \n",
       "vida_util                                      NaN   \n",
       "tipoextraccion                   Surgencia Natural   \n",
       "tipoestado                     Extracción Efectiva   \n",
       "tipopozo                                  Gasífero   \n",
       "observaciones                                  NaN   \n",
       "fechaingreso            2016-12-14 16:58:42.748897   \n",
       "rectificado                                      f   \n",
       "habilitado                                       t   \n",
       "idusuario                                      334   \n",
       "empresa                                   YPF S.A.   \n",
       "sigla                             PC.Nq.RN.xp-1007   \n",
       "formprod                                      PROS   \n",
       "profundidad                                 3904.0   \n",
       "formacion                             punta rosada   \n",
       "idareapermisoconcesion                         RGO   \n",
       "areapermisoconcesion                   RIO NEUQUEN   \n",
       "idareayacimiento                               RNQ   \n",
       "areayacimiento                         RIO NEUQUEN   \n",
       "cuenca                                    NEUQUINA   \n",
       "provincia                                  Neuquén   \n",
       "coordenadax                             -68.253761   \n",
       "coordenaday                             -38.713552   \n",
       "tipo_de_recurso                    NO CONVENCIONAL   \n",
       "proyecto                                  GAS PLUS   \n",
       "clasificacion                          EXPLORACION   \n",
       "subclasificacion             EXPLORATORIO PROFUNDO   \n",
       "sub_tipo_recurso                             TIGHT   \n",
       "fecha_data                              2016-11-30   \n",
       "\n",
       "                                                 1  \\\n",
       "idempresa                                      YPF   \n",
       "anio                                          2016   \n",
       "mes                                             12   \n",
       "idpozo                                       72206   \n",
       "prod_pet                                      6.24   \n",
       "prod_gas                                    781.65   \n",
       "prod_agua                                     1.54   \n",
       "iny_agua                                       0.0   \n",
       "iny_gas                                        0.0   \n",
       "iny_co2                                        0.0   \n",
       "iny_otro                                       0.0   \n",
       "tef                                          30.35   \n",
       "vida_util                                      NaN   \n",
       "tipoextraccion                   Surgencia Natural   \n",
       "tipoestado                     Extracción Efectiva   \n",
       "tipopozo                                  Gasífero   \n",
       "observaciones                                  NaN   \n",
       "fechaingreso            2017-01-06 14:14:23.121259   \n",
       "rectificado                                      f   \n",
       "habilitado                                       t   \n",
       "idusuario                                      334   \n",
       "empresa                                   YPF S.A.   \n",
       "sigla                             PC.Nq.RN.xp-1007   \n",
       "formprod                                      PROS   \n",
       "profundidad                                 3904.0   \n",
       "formacion                             punta rosada   \n",
       "idareapermisoconcesion                         RGO   \n",
       "areapermisoconcesion                   RIO NEUQUEN   \n",
       "idareayacimiento                               RNQ   \n",
       "areayacimiento                         RIO NEUQUEN   \n",
       "cuenca                                    NEUQUINA   \n",
       "provincia                                  Neuquén   \n",
       "coordenadax                             -68.253761   \n",
       "coordenaday                             -38.713552   \n",
       "tipo_de_recurso                    NO CONVENCIONAL   \n",
       "proyecto                                  GAS PLUS   \n",
       "clasificacion                          EXPLORACION   \n",
       "subclasificacion             EXPLORATORIO PROFUNDO   \n",
       "sub_tipo_recurso                             TIGHT   \n",
       "fecha_data                              2016-12-31   \n",
       "\n",
       "                                                 2  \\\n",
       "idempresa                                      YPF   \n",
       "anio                                          2017   \n",
       "mes                                              1   \n",
       "idpozo                                       72206   \n",
       "prod_pet                                      5.47   \n",
       "prod_gas                                    690.93   \n",
       "prod_agua                                     1.52   \n",
       "iny_agua                                       0.0   \n",
       "iny_gas                                        0.0   \n",
       "iny_co2                                        0.0   \n",
       "iny_otro                                       0.0   \n",
       "tef                                           31.0   \n",
       "vida_util                                      NaN   \n",
       "tipoextraccion                   Surgencia Natural   \n",
       "tipoestado                     Extracción Efectiva   \n",
       "tipopozo                                  Gasífero   \n",
       "observaciones                                  NaN   \n",
       "fechaingreso            2017-02-07 13:09:18.187765   \n",
       "rectificado                                      f   \n",
       "habilitado                                       t   \n",
       "idusuario                                      334   \n",
       "empresa                                   YPF S.A.   \n",
       "sigla                             PC.Nq.RN.xp-1007   \n",
       "formprod                                      PROS   \n",
       "profundidad                                 3904.0   \n",
       "formacion                             punta rosada   \n",
       "idareapermisoconcesion                         RGO   \n",
       "areapermisoconcesion                   RIO NEUQUEN   \n",
       "idareayacimiento                               RNQ   \n",
       "areayacimiento                         RIO NEUQUEN   \n",
       "cuenca                                    NEUQUINA   \n",
       "provincia                                  Neuquén   \n",
       "coordenadax                             -68.253761   \n",
       "coordenaday                             -38.713552   \n",
       "tipo_de_recurso                    NO CONVENCIONAL   \n",
       "proyecto                                  GAS PLUS   \n",
       "clasificacion                          EXPLORACION   \n",
       "subclasificacion             EXPLORATORIO PROFUNDO   \n",
       "sub_tipo_recurso                             TIGHT   \n",
       "fecha_data                              2017-01-31   \n",
       "\n",
       "                                                 3                           4  \n",
       "idempresa                                      YPF                         YPF  \n",
       "anio                                          2017                        2017  \n",
       "mes                                              2                           3  \n",
       "idpozo                                       72206                       72206  \n",
       "prod_pet                                      6.01                         5.5  \n",
       "prod_gas                                    764.29                       689.8  \n",
       "prod_agua                                      1.3                        1.42  \n",
       "iny_agua                                       0.0                         0.0  \n",
       "iny_gas                                        0.0                         0.0  \n",
       "iny_co2                                        0.0                         0.0  \n",
       "iny_otro                                       0.0                         0.0  \n",
       "tef                                          27.38                        31.0  \n",
       "vida_util                                      NaN                         NaN  \n",
       "tipoextraccion                   Surgencia Natural           Surgencia Natural  \n",
       "tipoestado                     Extracción Efectiva         Extracción Efectiva  \n",
       "tipopozo                                  Gasífero                    Gasífero  \n",
       "observaciones                                  NaN                         NaN  \n",
       "fechaingreso            2017-03-15 13:14:27.069314  2017-04-11 16:44:20.025116  \n",
       "rectificado                                      f                           f  \n",
       "habilitado                                       t                           t  \n",
       "idusuario                                      334                         334  \n",
       "empresa                                   YPF S.A.                    YPF S.A.  \n",
       "sigla                             PC.Nq.RN.xp-1007            PC.Nq.RN.xp-1007  \n",
       "formprod                                      PROS                        PROS  \n",
       "profundidad                                 3904.0                      3904.0  \n",
       "formacion                             punta rosada                punta rosada  \n",
       "idareapermisoconcesion                         RGO                         RGO  \n",
       "areapermisoconcesion                   RIO NEUQUEN                 RIO NEUQUEN  \n",
       "idareayacimiento                               RNQ                         RNQ  \n",
       "areayacimiento                         RIO NEUQUEN                 RIO NEUQUEN  \n",
       "cuenca                                    NEUQUINA                    NEUQUINA  \n",
       "provincia                                  Neuquén                     Neuquén  \n",
       "coordenadax                             -68.253761                  -68.253761  \n",
       "coordenaday                             -38.713552                  -38.713552  \n",
       "tipo_de_recurso                    NO CONVENCIONAL             NO CONVENCIONAL  \n",
       "proyecto                                  GAS PLUS                    GAS PLUS  \n",
       "clasificacion                          EXPLORACION                 EXPLORACION  \n",
       "subclasificacion             EXPLORATORIO PROFUNDO       EXPLORATORIO PROFUNDO  \n",
       "sub_tipo_recurso                             TIGHT                       TIGHT  \n",
       "fecha_data                              2017-02-28                  2017-03-31  "
      ],
      "text/html": "<div>\n<style scoped>\n    .dataframe tbody tr th:only-of-type {\n        vertical-align: middle;\n    }\n\n    .dataframe tbody tr th {\n        vertical-align: top;\n    }\n\n    .dataframe thead th {\n        text-align: right;\n    }\n</style>\n<table border=\"1\" class=\"dataframe\">\n  <thead>\n    <tr style=\"text-align: right;\">\n      <th></th>\n      <th>0</th>\n      <th>1</th>\n      <th>2</th>\n      <th>3</th>\n      <th>4</th>\n    </tr>\n  </thead>\n  <tbody>\n    <tr>\n      <th>idempresa</th>\n      <td>YPF</td>\n      <td>YPF</td>\n      <td>YPF</td>\n      <td>YPF</td>\n      <td>YPF</td>\n    </tr>\n    <tr>\n      <th>anio</th>\n      <td>2016</td>\n      <td>2016</td>\n      <td>2017</td>\n      <td>2017</td>\n      <td>2017</td>\n    </tr>\n    <tr>\n      <th>mes</th>\n      <td>11</td>\n      <td>12</td>\n      <td>1</td>\n      <td>2</td>\n      <td>3</td>\n    </tr>\n    <tr>\n      <th>idpozo</th>\n      <td>72206</td>\n      <td>72206</td>\n      <td>72206</td>\n      <td>72206</td>\n      <td>72206</td>\n    </tr>\n    <tr>\n      <th>prod_pet</th>\n      <td>4.47</td>\n      <td>6.24</td>\n      <td>5.47</td>\n      <td>6.01</td>\n      <td>5.5</td>\n    </tr>\n    <tr>\n      <th>prod_gas</th>\n      <td>532.2</td>\n      <td>781.65</td>\n      <td>690.93</td>\n      <td>764.29</td>\n      <td>689.8</td>\n    </tr>\n    <tr>\n      <th>prod_agua</th>\n      <td>1.27</td>\n      <td>1.54</td>\n      <td>1.52</td>\n      <td>1.3</td>\n      <td>1.42</td>\n    </tr>\n    <tr>\n      <th>iny_agua</th>\n      <td>0.0</td>\n      <td>0.0</td>\n      <td>0.0</td>\n      <td>0.0</td>\n      <td>0.0</td>\n    </tr>\n    <tr>\n      <th>iny_gas</th>\n      <td>0.0</td>\n      <td>0.0</td>\n      <td>0.0</td>\n      <td>0.0</td>\n      <td>0.0</td>\n    </tr>\n    <tr>\n      <th>iny_co2</th>\n      <td>0.0</td>\n      <td>0.0</td>\n      <td>0.0</td>\n      <td>0.0</td>\n      <td>0.0</td>\n    </tr>\n    <tr>\n      <th>iny_otro</th>\n      <td>0.0</td>\n      <td>0.0</td>\n      <td>0.0</td>\n      <td>0.0</td>\n      <td>0.0</td>\n    </tr>\n    <tr>\n      <th>tef</th>\n      <td>25.29</td>\n      <td>30.35</td>\n      <td>31.0</td>\n      <td>27.38</td>\n      <td>31.0</td>\n    </tr>\n    <tr>\n      <th>vida_util</th>\n      <td>NaN</td>\n      <td>NaN</td>\n      <td>NaN</td>\n      <td>NaN</td>\n      <td>NaN</td>\n    </tr>\n    <tr>\n      <th>tipoextraccion</th>\n      <td>Surgencia Natural</td>\n      <td>Surgencia Natural</td>\n      <td>Surgencia Natural</td>\n      <td>Surgencia Natural</td>\n      <td>Surgencia Natural</td>\n    </tr>\n    <tr>\n      <th>tipoestado</th>\n      <td>Extracción Efectiva</td>\n      <td>Extracción Efectiva</td>\n      <td>Extracción Efectiva</td>\n      <td>Extracción Efectiva</td>\n      <td>Extracción Efectiva</td>\n    </tr>\n    <tr>\n      <th>tipopozo</th>\n      <td>Gasífero</td>\n      <td>Gasífero</td>\n      <td>Gasífero</td>\n      <td>Gasífero</td>\n      <td>Gasífero</td>\n    </tr>\n    <tr>\n      <th>observaciones</th>\n      <td>NaN</td>\n      <td>NaN</td>\n      <td>NaN</td>\n      <td>NaN</td>\n      <td>NaN</td>\n    </tr>\n    <tr>\n      <th>fechaingreso</th>\n      <td>2016-12-14 16:58:42.748897</td>\n      <td>2017-01-06 14:14:23.121259</td>\n      <td>2017-02-07 13:09:18.187765</td>\n      <td>2017-03-15 13:14:27.069314</td>\n      <td>2017-04-11 16:44:20.025116</td>\n    </tr>\n    <tr>\n      <th>rectificado</th>\n      <td>f</td>\n      <td>f</td>\n      <td>f</td>\n      <td>f</td>\n      <td>f</td>\n    </tr>\n    <tr>\n      <th>habilitado</th>\n      <td>t</td>\n      <td>t</td>\n      <td>t</td>\n      <td>t</td>\n      <td>t</td>\n    </tr>\n    <tr>\n      <th>idusuario</th>\n      <td>334</td>\n      <td>334</td>\n      <td>334</td>\n      <td>334</td>\n      <td>334</td>\n    </tr>\n    <tr>\n      <th>empresa</th>\n      <td>YPF S.A.</td>\n      <td>YPF S.A.</td>\n      <td>YPF S.A.</td>\n      <td>YPF S.A.</td>\n      <td>YPF S.A.</td>\n    </tr>\n    <tr>\n      <th>sigla</th>\n      <td>PC.Nq.RN.xp-1007</td>\n      <td>PC.Nq.RN.xp-1007</td>\n      <td>PC.Nq.RN.xp-1007</td>\n      <td>PC.Nq.RN.xp-1007</td>\n      <td>PC.Nq.RN.xp-1007</td>\n    </tr>\n    <tr>\n      <th>formprod</th>\n      <td>PROS</td>\n      <td>PROS</td>\n      <td>PROS</td>\n      <td>PROS</td>\n      <td>PROS</td>\n    </tr>\n    <tr>\n      <th>profundidad</th>\n      <td>3904.0</td>\n      <td>3904.0</td>\n      <td>3904.0</td>\n      <td>3904.0</td>\n      <td>3904.0</td>\n    </tr>\n    <tr>\n      <th>formacion</th>\n      <td>punta rosada</td>\n      <td>punta rosada</td>\n      <td>punta rosada</td>\n      <td>punta rosada</td>\n      <td>punta rosada</td>\n    </tr>\n    <tr>\n      <th>idareapermisoconcesion</th>\n      <td>RGO</td>\n      <td>RGO</td>\n      <td>RGO</td>\n      <td>RGO</td>\n      <td>RGO</td>\n    </tr>\n    <tr>\n      <th>areapermisoconcesion</th>\n      <td>RIO NEUQUEN</td>\n      <td>RIO NEUQUEN</td>\n      <td>RIO NEUQUEN</td>\n      <td>RIO NEUQUEN</td>\n      <td>RIO NEUQUEN</td>\n    </tr>\n    <tr>\n      <th>idareayacimiento</th>\n      <td>RNQ</td>\n      <td>RNQ</td>\n      <td>RNQ</td>\n      <td>RNQ</td>\n      <td>RNQ</td>\n    </tr>\n    <tr>\n      <th>areayacimiento</th>\n      <td>RIO NEUQUEN</td>\n      <td>RIO NEUQUEN</td>\n      <td>RIO NEUQUEN</td>\n      <td>RIO NEUQUEN</td>\n      <td>RIO NEUQUEN</td>\n    </tr>\n    <tr>\n      <th>cuenca</th>\n      <td>NEUQUINA</td>\n      <td>NEUQUINA</td>\n      <td>NEUQUINA</td>\n      <td>NEUQUINA</td>\n      <td>NEUQUINA</td>\n    </tr>\n    <tr>\n      <th>provincia</th>\n      <td>Neuquén</td>\n      <td>Neuquén</td>\n      <td>Neuquén</td>\n      <td>Neuquén</td>\n      <td>Neuquén</td>\n    </tr>\n    <tr>\n      <th>coordenadax</th>\n      <td>-68.253761</td>\n      <td>-68.253761</td>\n      <td>-68.253761</td>\n      <td>-68.253761</td>\n      <td>-68.253761</td>\n    </tr>\n    <tr>\n      <th>coordenaday</th>\n      <td>-38.713552</td>\n      <td>-38.713552</td>\n      <td>-38.713552</td>\n      <td>-38.713552</td>\n      <td>-38.713552</td>\n    </tr>\n    <tr>\n      <th>tipo_de_recurso</th>\n      <td>NO CONVENCIONAL</td>\n      <td>NO CONVENCIONAL</td>\n      <td>NO CONVENCIONAL</td>\n      <td>NO CONVENCIONAL</td>\n      <td>NO CONVENCIONAL</td>\n    </tr>\n    <tr>\n      <th>proyecto</th>\n      <td>GAS PLUS</td>\n      <td>GAS PLUS</td>\n      <td>GAS PLUS</td>\n      <td>GAS PLUS</td>\n      <td>GAS PLUS</td>\n    </tr>\n    <tr>\n      <th>clasificacion</th>\n      <td>EXPLORACION</td>\n      <td>EXPLORACION</td>\n      <td>EXPLORACION</td>\n      <td>EXPLORACION</td>\n      <td>EXPLORACION</td>\n    </tr>\n    <tr>\n      <th>subclasificacion</th>\n      <td>EXPLORATORIO PROFUNDO</td>\n      <td>EXPLORATORIO PROFUNDO</td>\n      <td>EXPLORATORIO PROFUNDO</td>\n      <td>EXPLORATORIO PROFUNDO</td>\n      <td>EXPLORATORIO PROFUNDO</td>\n    </tr>\n    <tr>\n      <th>sub_tipo_recurso</th>\n      <td>TIGHT</td>\n      <td>TIGHT</td>\n      <td>TIGHT</td>\n      <td>TIGHT</td>\n      <td>TIGHT</td>\n    </tr>\n    <tr>\n      <th>fecha_data</th>\n      <td>2016-11-30</td>\n      <td>2016-12-31</td>\n      <td>2017-01-31</td>\n      <td>2017-02-28</td>\n      <td>2017-03-31</td>\n    </tr>\n  </tbody>\n</table>\n</div>"
     },
     "metadata": {},
     "execution_count": 8
    }
   ],
   "source": [
    "# Me quedo solo con YPF\r\n",
    "mask_YPF = (data['empresa'] == 'YPF S.A.') | (data['empresa'] == 'YSUR ENERGÍA ARGENTINA S.R.L.')\r\n",
    "data_YPF = data[mask_YPF].reset_index(drop=True)\r\n",
    "data_YPF.head().T"
   ]
  },
  {
   "cell_type": "code",
   "execution_count": 9,
   "metadata": {},
   "outputs": [],
   "source": [
    "# Creo una lista con todos los pozos de YPF\r\n",
    "pozos_YPF= data_YPF['sigla'].unique()\r\n"
   ]
  },
  {
   "cell_type": "code",
   "execution_count": 10,
   "metadata": {},
   "outputs": [],
   "source": [
    "# Creo un diccionario de diccionarios con estas llaves\r\n",
    "keys=['meses_prod','qo_prod','qw_prod','qg_prod','net_oil_prod','net_water_prod','net_gas_prod']\r\n",
    "pozos_ypf_dict={}\r\n",
    "for pozo in pozos_YPF:\r\n",
    "    pozos_ypf_dict[pozo]={}\r\n",
    "    for key in keys:\r\n",
    "        pozos_ypf_dict[pozo][key]=np.array([])\r\n",
    "    "
   ]
  },
  {
   "cell_type": "code",
   "execution_count": 11,
   "metadata": {
    "jupyter": {
     "source_hidden": true
    }
   },
   "outputs": [
    {
     "output_type": "execute_result",
     "data": {
      "text/plain": [
       "''"
      ]
     },
     "metadata": {},
     "execution_count": 11
    }
   ],
   "source": [
    "\"\"\" # Por cada pozo voy agregando informacion al diccionario\r\n",
    "for pozo in pozos_YPF:\r\n",
    "    meses_prod=[]\r\n",
    "    qo_prod = []\r\n",
    "    qw_prod = []\r\n",
    "    qg_prod = []\r\n",
    "    \r\n",
    "    mask_pozo = data['sigla'] == pozo\r\n",
    "    data_pozo = data[mask_pozo]\r\n",
    "    \r\n",
    "    # Creo listas con los valores de meses de produccion y caudales de petróleo, gas y agua\r\n",
    "    for i, mes in enumerate(data_pozo['mes']):\r\n",
    "        meses_prod.append(i)\r\n",
    "    for qo in data_pozo['prod_pet']:\r\n",
    "        qo_prod.append(qo)\r\n",
    "    for qw in data_pozo['prod_agua']:\r\n",
    "        qw_prod.append(qw)\r\n",
    "    for qg in data_pozo['prod_gas']:\r\n",
    "        qg_prod.append(qg)\r\n",
    "        \r\n",
    "    # Calculo la producción neta\r\n",
    "    net_oil_prod= np.cumsum(qo_prod)\r\n",
    "    net_water_prod = np.cumsum(qw_prod)\r\n",
    "    net_gas_prod = np.cumsum(qg_prod)\r\n",
    "    \r\n",
    "    # Lleno los valores del diccionario con las listas y arrays que acabo de crear\r\n",
    "    for key in keys:\r\n",
    "        pozos_ypf_dict[pozo]['meses_prod'] = meses_prod\r\n",
    "        pozos_ypf_dict[pozo]['qo_prod'] = qo_prod\r\n",
    "        pozos_ypf_dict[pozo]['qw_prod'] = qw_prod\r\n",
    "        pozos_ypf_dict[pozo]['qg_prod'] = qg_prod\r\n",
    "        pozos_ypf_dict[pozo]['net_oil_prod'] = net_oil_prod\r\n",
    "        pozos_ypf_dict[pozo]['net_water_prod'] = net_water_prod\r\n",
    "        pozos_ypf_dict[pozo]['net_gas_prod'] = net_gas_prod\r\n",
    "\r\n",
    "   \"\"\"\r\n",
    ";"
   ]
  },
  {
   "cell_type": "code",
   "execution_count": 12,
   "metadata": {},
   "outputs": [
    {
     "output_type": "execute_result",
     "data": {
      "text/plain": [
       "''"
      ]
     },
     "metadata": {},
     "execution_count": 12
    }
   ],
   "source": [
    "\"\"\" import pickle\r\n",
    "\r\n",
    "\r\n",
    "with open('produ_dict.pickle', 'wb') as handle:\r\n",
    "    pickle.dump(pozos_ypf_dict, handle, protocol=pickle.HIGHEST_PROTOCOL)\r\n",
    " \"\"\"\r\n",
    ";"
   ]
  },
  {
   "cell_type": "code",
   "execution_count": 13,
   "metadata": {},
   "outputs": [],
   "source": [
    "# Cargo el pickle al objeto produ_dict\r\n",
    "import pickle\r\n",
    "with open('produ_dict.pickle', 'rb') as handle:\r\n",
    "    produ_dict  = pickle.load(handle)\r\n"
   ]
  },
  {
   "cell_type": "code",
   "execution_count": 14,
   "metadata": {},
   "outputs": [],
   "source": [
    "# Tipos de trayectoria (falta vertical pero esa es la default)\r\n",
    "tipo_trayectoria = ['desviado','horizontal']\r\n",
    "# Regex para encontrar pozos desviados y horizontales\r\n",
    "regex_trayectoria = [r'\\(d\\)$|[d]$|\\(d\\)+\\([Ii]\\)',r'\\(h\\)$|[h]$|\\(h\\)+\\([Ii]\\)']\r\n",
    "# Crep un df todo lleno de nans\r\n",
    "data_YPF['trayectoria'] = np.nan\r\n",
    "\r\n",
    "# Guardo los indices de los pozos que cumplen con el regex y completo los nans con el tipo de trayectoria\r\n",
    "for regex,trayectoria in zip(regex_trayectoria,tipo_trayectoria):\r\n",
    "    mask_trayectoria = data_YPF['sigla'].str.contains(regex,regex=True)\r\n",
    "    indices_trayectoria = data_YPF[mask_trayectoria]['sigla'].index\r\n",
    "    data_YPF.loc[indices_trayectoria,'trayectoria'] = trayectoria\r\n",
    "\r\n",
    "# Completo los nans restantes con pozos verticales\r\n",
    "data_YPF['trayectoria'].fillna('vertical',inplace=True)"
   ]
  },
  {
   "cell_type": "code",
   "execution_count": 15,
   "metadata": {},
   "outputs": [],
   "source": [
    "# Tipos de trayectoria (falta vertical pero esa es la default)\r\n",
    "tipo_trayectoria = ['desviado','horizontal']\r\n",
    "# Regex para encontrar pozos desviados y horizontales\r\n",
    "regex_trayectoria = [r'\\(d\\)$|[d]$|\\(d\\)+\\([Ii]\\)',r'\\(h\\)$|[h]$|\\(h\\)+\\([Ii]\\)']\r\n",
    "# Crep un df todo lleno de nans\r\n",
    "data['trayectoria'] = np.nan\r\n",
    "\r\n",
    "# Guardo los indices de los pozos que cumplen con el regex y completo los nans con el tipo de trayectoria\r\n",
    "for regex,trayectoria in zip(regex_trayectoria,tipo_trayectoria):\r\n",
    "    mask_trayectoria = data['sigla'].str.contains(regex,regex=True)\r\n",
    "    indices_trayectoria = data[mask_trayectoria]['sigla'].index\r\n",
    "    data.loc[indices_trayectoria,'trayectoria'] = trayectoria\r\n",
    "\r\n",
    "# Completo los nans restantes con pozos verticales\r\n",
    "data['trayectoria'].fillna('vertical',inplace=True)"
   ]
  },
  {
   "cell_type": "code",
   "execution_count": 16,
   "metadata": {},
   "outputs": [],
   "source": [
    "# Creo una columna con el conteo de los meses para cada pozo\r\n",
    "data_YPF['conteo_mes'] = np.nan\r\n",
    "for pozo in pozos_YPF:\r\n",
    "    mask_pozo = data_YPF['sigla'] == pozo\r\n",
    "    index_pozo = data_YPF.loc[mask_pozo,'sigla'].index\r\n",
    "    conteo_mes = np.arange(len(index_pozo))\r\n",
    "    data_YPF.loc[index_pozo,'conteo_mes']= conteo_mes"
   ]
  },
  {
   "cell_type": "code",
   "execution_count": 17,
   "metadata": {},
   "outputs": [],
   "source": [
    "# Creo una columna con el conteo de los meses para cada pozo PARA LA DATA TOTAL\r\n",
    "data['conteo_mes'] = np.nan\r\n",
    "for pozo in data['sigla'].unique():\r\n",
    "    mask_pozo = data['sigla'] == pozo\r\n",
    "    index_pozo = data.loc[mask_pozo,'sigla'].index\r\n",
    "    conteo_mes = np.arange(len(index_pozo))\r\n",
    "    data.loc[index_pozo,'conteo_mes']= conteo_mes"
   ]
  },
  {
   "cell_type": "code",
   "execution_count": 18,
   "metadata": {},
   "outputs": [],
   "source": [
    "# Concateno anio, mes y dia\r\n",
    "data_YPF['dia']=1\r\n",
    "data_YPF['fecha']= pd.to_datetime((data_YPF.anio*10000+data_YPF.mes*100+data_YPF.dia).apply(str),format='%Y%m%d').values"
   ]
  },
  {
   "cell_type": "code",
   "execution_count": 19,
   "metadata": {},
   "outputs": [],
   "source": [
    "# Dropeo columnas que no me sirven por el momento\r\n",
    "drop_columns = ['idpozo','vida_util','observaciones','fechaingreso','rectificado','habilitado','idusuario','formprod','idareapermisoconcesion',\r\n",
    "                'idareayacimiento','fecha_data','dia','subclasificacion','iny_co2','iny_otro','tipo_de_recurso','idempresa','empresa']\r\n",
    "data_YPF.drop(columns=drop_columns,inplace=True)\r\n"
   ]
  },
  {
   "cell_type": "code",
   "execution_count": 20,
   "metadata": {},
   "outputs": [],
   "source": [
    "# Dro\n",
    "drop_columns = ['idpozo','vida_util','observaciones','fechaingreso','rectificado','habilitado','idusuario','formprod','idareapermisoconcesion',\r\n",
    "                'idareayacimiento','fecha_data','subclasificacion','iny_co2','iny_otro','tipo_de_recurso','idempresa','empresa','tipoextraccion','tipoestado','tipopozo','profundidad','formacion',\r\n",
    "                'areapermisoconcesion','areayacimiento','cuenca','provincia','coordenadax','coordenaday','proyecto','clasificacion','sub_tipo_recurso']\r\n",
    "data.drop(columns=drop_columns,inplace=True)"
   ]
  },
  {
   "cell_type": "code",
   "execution_count": 21,
   "metadata": {},
   "outputs": [],
   "source": [
    "data['sigla']=data['sigla'].apply(lambda x : str.lower(x))\n",
    "data['sigla']=data['sigla'].apply(lambda x : x.replace(' ',''))"
   ]
  },
  {
   "source": [
    "# Fracturas"
   ],
   "cell_type": "markdown",
   "metadata": {}
  },
  {
   "cell_type": "code",
   "execution_count": 23,
   "metadata": {},
   "outputs": [],
   "source": [
    "fracturas= pd.read_csv('Datos de fractura.csv')"
   ]
  },
  {
   "cell_type": "code",
   "execution_count": 24,
   "metadata": {},
   "outputs": [],
   "source": [
    "# Dropeo columnas que no me sirven por ahora\r\n",
    "drop_columns=['idpozo','id_base_fractura_adjiv','areapermisoconcesion',\r\n",
    "       'yacimiento', 'formacion_productiva', 'tipo_reservorio',\r\n",
    "       'subtipo_reservorio','fecha_data',\r\n",
    "       'empresa_informante','mes']\r\n",
    "fracturas.drop(columns=drop_columns,inplace=True)\r\n"
   ]
  },
  {
   "cell_type": "code",
   "execution_count": 25,
   "metadata": {},
   "outputs": [],
   "source": [
    "fracturas['sigla']=fracturas['sigla'].apply(lambda x : str.lower(x))\n",
    "fracturas['sigla']=fracturas['sigla'].apply(lambda x : x.replace(' ',''))"
   ]
  },
  {
   "cell_type": "code",
   "execution_count": 26,
   "metadata": {},
   "outputs": [],
   "source": [
    "# Busco repetidos en 'sigla'\r\n",
    "mask = fracturas['sigla'].value_counts()>1\r\n",
    "asd = mask[mask].index.values\r\n",
    "mask_repetidos = fracturas['sigla'].isin(asd)\r\n",
    "df_temp = fracturas[mask_repetidos].sort_values('sigla')\r\n",
    "df_temp = df_temp.sort_values(['sigla','cantidad_fracturas'],ascending=True)\r\n",
    "\r\n",
    "# Borro repetidos de sigla\r\n",
    "fracturas.sort_values(['sigla','cantidad_fracturas'],inplace=True)\r\n",
    "fracturas.drop_duplicates(subset='sigla',inplace=True,keep='last')"
   ]
  },
  {
   "cell_type": "markdown",
   "metadata": {},
   "source": [
    "# Pozos"
   ]
  },
  {
   "cell_type": "code",
   "execution_count": 27,
   "metadata": {},
   "outputs": [],
   "source": [
    "pozos = pd.read_csv('Info Pozos.csv')"
   ]
  },
  {
   "cell_type": "code",
   "execution_count": 28,
   "metadata": {},
   "outputs": [],
   "source": [
    "# Dropeo columnas que no me sirven por ahora\r\n",
    "pozos.drop(columns=['idpozo', 'cod_area',\r\n",
    "              'provincia', 'cota',\r\n",
    "              'gasplus','geom'], inplace=True)\r\n",
    "\r\n",
    "# Renombro algunas columnas\r\n",
    "pozos.rename(columns={'tipoextraccion':'tipo_extraccion','adjiv_fecha_inicio_perf':'fecha_inicio_perf',\r\n",
    "                    'adjiv_fecha_fin_perf':'fecha_fin_perf','adjiv_fecha_inicio_term':'fecha_inicio_term','adjiv_fecha_fin_term':'fecha_fin_term'},inplace=True)\r\n"
   ]
  },
  {
   "cell_type": "code",
   "execution_count": 29,
   "metadata": {},
   "outputs": [],
   "source": [
    "# Convierto toda la columna geosjon a json\r\n",
    "import json\r\n",
    "pozos['geojson'] = pozos['geojson'].apply(lambda x : json.loads(x) )\r\n",
    "# Reemplazo todos los valores por el de la llave 'coordinates'\r\n",
    "pozos['geojson'] = pozos['geojson'].apply(lambda x : x['coordinates'] )\r\n",
    "# Genero columnas de coordenada x e y\r\n",
    "pozos['cordenada_x'] = pozos['geojson'].apply(lambda x : x[0] )\r\n",
    "pozos['cordenada_y'] = pozos['geojson'].apply(lambda x : x[1] )\r\n",
    "\r\n"
   ]
  },
  {
   "cell_type": "code",
   "execution_count": 30,
   "metadata": {},
   "outputs": [],
   "source": [
    "pozos['sigla']=pozos['sigla'].apply(lambda x : str.lower(x))\n",
    "pozos['sigla']=pozos['sigla'].apply(lambda x : x.replace(' ',''))"
   ]
  },
  {
   "cell_type": "code",
   "execution_count": 31,
   "metadata": {},
   "outputs": [],
   "source": [
    "# Borro Duplicados de la tabla pozos\r\n",
    "pozos.sort_values(['sigla','fecha_inicio_perf'],inplace=True)\r\n",
    "pozos.drop_duplicates(subset='sigla',keep='first',inplace=True)"
   ]
  },
  {
   "cell_type": "code",
   "execution_count": 54,
   "metadata": {},
   "outputs": [],
   "source": [
    "# Borro pozos 'data' que no estan en 'info_pozos'\n",
    "pozos_unicos = pozos['sigla'].unique()\n",
    "mask_pozos_unicos = data['sigla'].isin(pozos_unicos)\n",
    "index_borrar = mask_pozos_unicos[mask_pozos_unicos==False].index\n",
    "data.drop(index=index_borrar,inplace=True)\n"
   ]
  },
  {
   "cell_type": "code",
   "execution_count": 58,
   "metadata": {},
   "outputs": [
    {
     "output_type": "execute_result",
     "data": {
      "text/plain": [
       "(2558, 22)"
      ]
     },
     "metadata": {},
     "execution_count": 58
    }
   ],
   "source": [
    "# Borro pozos de 'pozos' que no estan en 'data'\n",
    "data_pozos_unicos = data['sigla'].unique()\n",
    "mask_pozos_unicos = pozos['sigla'].isin(data_pozos_unicos)\n",
    "index_borrar = mask_pozos_unicos[mask_pozos_unicos==False].index\n",
    "pozos.drop(index=index_borrar,inplace=True)\n",
    "pozos.shape"
   ]
  },
  {
   "cell_type": "code",
   "execution_count": 59,
   "metadata": {},
   "outputs": [
    {
     "output_type": "execute_result",
     "data": {
      "text/plain": [
       "ypf.nq.laj-197(d)     1\n",
       "pae.nq.la-184         1\n",
       "ypf.nq.lach-88(h)     1\n",
       "aps.nq.sa.p-39        1\n",
       "tau.nq.ap-1014(h)     1\n",
       "                     ..\n",
       "ypf.nq.psno.x-2       1\n",
       "xom.nq.all.x-4(h)     1\n",
       "apa.rn.efo-144(d)     1\n",
       "ypf.nq.rdm-211(h)     1\n",
       "ypf.nq.fmvm.x-1(h)    1\n",
       "Name: sigla, Length: 2558, dtype: int64"
      ]
     },
     "metadata": {},
     "execution_count": 59
    }
   ],
   "source": [
    "pozos['sigla'].value_counts()"
   ]
  },
  {
   "cell_type": "code",
   "execution_count": 61,
   "metadata": {},
   "outputs": [],
   "source": [
    "\n",
    "data_YPF.to_csv(r'outputs/produccion_YPF.csv',index=False)\n",
    "fracturas.to_csv(r'outputs/fracturas.csv',index=False)\n",
    "pozos.to_csv(r'outputs/info_pozos.csv',index=False)\n",
    "data.to_csv(r'outputs/produccion.csv',index=False)\n",
    "\n",
    "\n"
   ]
  },
  {
   "cell_type": "code",
   "execution_count": 34,
   "metadata": {},
   "outputs": [
    {
     "output_type": "execute_result",
     "data": {
      "text/plain": [
       "       anio  mes  prod_pet  prod_gas  prod_agua  iny_agua  iny_gas    tef  \\\n",
       "38797  2014    2      0.00      0.00       0.00       0.0      0.0   0.00   \n",
       "38798  2014    3     52.23     41.75     829.61       0.0      0.0  10.71   \n",
       "38799  2014    4    146.59    130.20    1271.93       0.0      0.0  30.00   \n",
       "38800  2014    5    259.87    177.34     390.40       0.0      0.0  30.75   \n",
       "38801  2014    6    259.76    174.29     208.74       0.0      0.0  30.00   \n",
       "...     ...  ...       ...       ...        ...       ...      ...    ...   \n",
       "63960  2020   11     59.56     12.80       9.15       0.0      0.0  21.67   \n",
       "63961  2020   12     94.23     12.02       7.16       0.0      0.0  29.65   \n",
       "63962  2021    1     56.22      7.67       4.29       0.0      0.0  30.29   \n",
       "63963  2021    2     74.82      9.25       5.52       0.0      0.0  27.42   \n",
       "63964  2021    3     64.72     15.30       6.74       0.0      0.0  29.69   \n",
       "\n",
       "                  tipoextraccion                tipoestado  ...    cuenca  \\\n",
       "38797  Sin Sistema de Extracción  Otras Situación Inactivo  ...  NEUQUINA   \n",
       "38798          Surgencia Natural       Extracción Efectiva  ...  NEUQUINA   \n",
       "38799          Surgencia Natural       Extracción Efectiva  ...  NEUQUINA   \n",
       "38800          Surgencia Natural       Extracción Efectiva  ...  NEUQUINA   \n",
       "38801          Surgencia Natural       Extracción Efectiva  ...  NEUQUINA   \n",
       "...                          ...                       ...  ...       ...   \n",
       "63960            Bombeo Mecánico       Extracción Efectiva  ...  NEUQUINA   \n",
       "63961            Bombeo Mecánico       Extracción Efectiva  ...  NEUQUINA   \n",
       "63962            Bombeo Mecánico       Extracción Efectiva  ...  NEUQUINA   \n",
       "63963            Bombeo Mecánico       Extracción Efectiva  ...  NEUQUINA   \n",
       "63964            Bombeo Mecánico       Extracción Efectiva  ...  NEUQUINA   \n",
       "\n",
       "      provincia  coordenadax coordenaday      proyecto clasificacion  \\\n",
       "38797   Neuquén   -68.773996  -38.311019  Sin Proyecto   EXPLOTACION   \n",
       "38798   Neuquén   -68.773996  -38.311019  Sin Proyecto   EXPLOTACION   \n",
       "38799   Neuquén   -68.773996  -38.311019  Sin Proyecto   EXPLOTACION   \n",
       "38800   Neuquén   -68.773996  -38.311019  Sin Proyecto   EXPLOTACION   \n",
       "38801   Neuquén   -68.773996  -38.311019  Sin Proyecto   EXPLOTACION   \n",
       "...         ...          ...         ...           ...           ...   \n",
       "63960   Neuquén   -68.773996  -38.311019  Sin Proyecto   EXPLOTACION   \n",
       "63961   Neuquén   -68.773996  -38.311019  Sin Proyecto   EXPLOTACION   \n",
       "63962   Neuquén   -68.773996  -38.311019  Sin Proyecto   EXPLOTACION   \n",
       "63963   Neuquén   -68.773996  -38.311019  Sin Proyecto   EXPLOTACION   \n",
       "63964   Neuquén   -68.773996  -38.311019  Sin Proyecto   EXPLOTACION   \n",
       "\n",
       "      sub_tipo_recurso trayectoria  conteo_mes      fecha  \n",
       "38797            SHALE    desviado         0.0 2014-02-01  \n",
       "38798            SHALE    desviado         1.0 2014-03-01  \n",
       "38799            SHALE    desviado         2.0 2014-04-01  \n",
       "38800            SHALE    desviado         3.0 2014-05-01  \n",
       "38801            SHALE    desviado         4.0 2014-06-01  \n",
       "...                ...         ...         ...        ...  \n",
       "63960            SHALE    desviado       158.0 2020-11-01  \n",
       "63961            SHALE    desviado       159.0 2020-12-01  \n",
       "63962            SHALE    desviado       160.0 2021-01-01  \n",
       "63963            SHALE    desviado       161.0 2021-02-01  \n",
       "63964            SHALE    desviado       162.0 2021-03-01  \n",
       "\n",
       "[163 rows x 26 columns]"
      ],
      "text/html": "<div>\n<style scoped>\n    .dataframe tbody tr th:only-of-type {\n        vertical-align: middle;\n    }\n\n    .dataframe tbody tr th {\n        vertical-align: top;\n    }\n\n    .dataframe thead th {\n        text-align: right;\n    }\n</style>\n<table border=\"1\" class=\"dataframe\">\n  <thead>\n    <tr style=\"text-align: right;\">\n      <th></th>\n      <th>anio</th>\n      <th>mes</th>\n      <th>prod_pet</th>\n      <th>prod_gas</th>\n      <th>prod_agua</th>\n      <th>iny_agua</th>\n      <th>iny_gas</th>\n      <th>tef</th>\n      <th>tipoextraccion</th>\n      <th>tipoestado</th>\n      <th>...</th>\n      <th>cuenca</th>\n      <th>provincia</th>\n      <th>coordenadax</th>\n      <th>coordenaday</th>\n      <th>proyecto</th>\n      <th>clasificacion</th>\n      <th>sub_tipo_recurso</th>\n      <th>trayectoria</th>\n      <th>conteo_mes</th>\n      <th>fecha</th>\n    </tr>\n  </thead>\n  <tbody>\n    <tr>\n      <th>38797</th>\n      <td>2014</td>\n      <td>2</td>\n      <td>0.00</td>\n      <td>0.00</td>\n      <td>0.00</td>\n      <td>0.0</td>\n      <td>0.0</td>\n      <td>0.00</td>\n      <td>Sin Sistema de Extracción</td>\n      <td>Otras Situación Inactivo</td>\n      <td>...</td>\n      <td>NEUQUINA</td>\n      <td>Neuquén</td>\n      <td>-68.773996</td>\n      <td>-38.311019</td>\n      <td>Sin Proyecto</td>\n      <td>EXPLOTACION</td>\n      <td>SHALE</td>\n      <td>desviado</td>\n      <td>0.0</td>\n      <td>2014-02-01</td>\n    </tr>\n    <tr>\n      <th>38798</th>\n      <td>2014</td>\n      <td>3</td>\n      <td>52.23</td>\n      <td>41.75</td>\n      <td>829.61</td>\n      <td>0.0</td>\n      <td>0.0</td>\n      <td>10.71</td>\n      <td>Surgencia Natural</td>\n      <td>Extracción Efectiva</td>\n      <td>...</td>\n      <td>NEUQUINA</td>\n      <td>Neuquén</td>\n      <td>-68.773996</td>\n      <td>-38.311019</td>\n      <td>Sin Proyecto</td>\n      <td>EXPLOTACION</td>\n      <td>SHALE</td>\n      <td>desviado</td>\n      <td>1.0</td>\n      <td>2014-03-01</td>\n    </tr>\n    <tr>\n      <th>38799</th>\n      <td>2014</td>\n      <td>4</td>\n      <td>146.59</td>\n      <td>130.20</td>\n      <td>1271.93</td>\n      <td>0.0</td>\n      <td>0.0</td>\n      <td>30.00</td>\n      <td>Surgencia Natural</td>\n      <td>Extracción Efectiva</td>\n      <td>...</td>\n      <td>NEUQUINA</td>\n      <td>Neuquén</td>\n      <td>-68.773996</td>\n      <td>-38.311019</td>\n      <td>Sin Proyecto</td>\n      <td>EXPLOTACION</td>\n      <td>SHALE</td>\n      <td>desviado</td>\n      <td>2.0</td>\n      <td>2014-04-01</td>\n    </tr>\n    <tr>\n      <th>38800</th>\n      <td>2014</td>\n      <td>5</td>\n      <td>259.87</td>\n      <td>177.34</td>\n      <td>390.40</td>\n      <td>0.0</td>\n      <td>0.0</td>\n      <td>30.75</td>\n      <td>Surgencia Natural</td>\n      <td>Extracción Efectiva</td>\n      <td>...</td>\n      <td>NEUQUINA</td>\n      <td>Neuquén</td>\n      <td>-68.773996</td>\n      <td>-38.311019</td>\n      <td>Sin Proyecto</td>\n      <td>EXPLOTACION</td>\n      <td>SHALE</td>\n      <td>desviado</td>\n      <td>3.0</td>\n      <td>2014-05-01</td>\n    </tr>\n    <tr>\n      <th>38801</th>\n      <td>2014</td>\n      <td>6</td>\n      <td>259.76</td>\n      <td>174.29</td>\n      <td>208.74</td>\n      <td>0.0</td>\n      <td>0.0</td>\n      <td>30.00</td>\n      <td>Surgencia Natural</td>\n      <td>Extracción Efectiva</td>\n      <td>...</td>\n      <td>NEUQUINA</td>\n      <td>Neuquén</td>\n      <td>-68.773996</td>\n      <td>-38.311019</td>\n      <td>Sin Proyecto</td>\n      <td>EXPLOTACION</td>\n      <td>SHALE</td>\n      <td>desviado</td>\n      <td>4.0</td>\n      <td>2014-06-01</td>\n    </tr>\n    <tr>\n      <th>...</th>\n      <td>...</td>\n      <td>...</td>\n      <td>...</td>\n      <td>...</td>\n      <td>...</td>\n      <td>...</td>\n      <td>...</td>\n      <td>...</td>\n      <td>...</td>\n      <td>...</td>\n      <td>...</td>\n      <td>...</td>\n      <td>...</td>\n      <td>...</td>\n      <td>...</td>\n      <td>...</td>\n      <td>...</td>\n      <td>...</td>\n      <td>...</td>\n      <td>...</td>\n      <td>...</td>\n    </tr>\n    <tr>\n      <th>63960</th>\n      <td>2020</td>\n      <td>11</td>\n      <td>59.56</td>\n      <td>12.80</td>\n      <td>9.15</td>\n      <td>0.0</td>\n      <td>0.0</td>\n      <td>21.67</td>\n      <td>Bombeo Mecánico</td>\n      <td>Extracción Efectiva</td>\n      <td>...</td>\n      <td>NEUQUINA</td>\n      <td>Neuquén</td>\n      <td>-68.773996</td>\n      <td>-38.311019</td>\n      <td>Sin Proyecto</td>\n      <td>EXPLOTACION</td>\n      <td>SHALE</td>\n      <td>desviado</td>\n      <td>158.0</td>\n      <td>2020-11-01</td>\n    </tr>\n    <tr>\n      <th>63961</th>\n      <td>2020</td>\n      <td>12</td>\n      <td>94.23</td>\n      <td>12.02</td>\n      <td>7.16</td>\n      <td>0.0</td>\n      <td>0.0</td>\n      <td>29.65</td>\n      <td>Bombeo Mecánico</td>\n      <td>Extracción Efectiva</td>\n      <td>...</td>\n      <td>NEUQUINA</td>\n      <td>Neuquén</td>\n      <td>-68.773996</td>\n      <td>-38.311019</td>\n      <td>Sin Proyecto</td>\n      <td>EXPLOTACION</td>\n      <td>SHALE</td>\n      <td>desviado</td>\n      <td>159.0</td>\n      <td>2020-12-01</td>\n    </tr>\n    <tr>\n      <th>63962</th>\n      <td>2021</td>\n      <td>1</td>\n      <td>56.22</td>\n      <td>7.67</td>\n      <td>4.29</td>\n      <td>0.0</td>\n      <td>0.0</td>\n      <td>30.29</td>\n      <td>Bombeo Mecánico</td>\n      <td>Extracción Efectiva</td>\n      <td>...</td>\n      <td>NEUQUINA</td>\n      <td>Neuquén</td>\n      <td>-68.773996</td>\n      <td>-38.311019</td>\n      <td>Sin Proyecto</td>\n      <td>EXPLOTACION</td>\n      <td>SHALE</td>\n      <td>desviado</td>\n      <td>160.0</td>\n      <td>2021-01-01</td>\n    </tr>\n    <tr>\n      <th>63963</th>\n      <td>2021</td>\n      <td>2</td>\n      <td>74.82</td>\n      <td>9.25</td>\n      <td>5.52</td>\n      <td>0.0</td>\n      <td>0.0</td>\n      <td>27.42</td>\n      <td>Bombeo Mecánico</td>\n      <td>Extracción Efectiva</td>\n      <td>...</td>\n      <td>NEUQUINA</td>\n      <td>Neuquén</td>\n      <td>-68.773996</td>\n      <td>-38.311019</td>\n      <td>Sin Proyecto</td>\n      <td>EXPLOTACION</td>\n      <td>SHALE</td>\n      <td>desviado</td>\n      <td>161.0</td>\n      <td>2021-02-01</td>\n    </tr>\n    <tr>\n      <th>63964</th>\n      <td>2021</td>\n      <td>3</td>\n      <td>64.72</td>\n      <td>15.30</td>\n      <td>6.74</td>\n      <td>0.0</td>\n      <td>0.0</td>\n      <td>29.69</td>\n      <td>Bombeo Mecánico</td>\n      <td>Extracción Efectiva</td>\n      <td>...</td>\n      <td>NEUQUINA</td>\n      <td>Neuquén</td>\n      <td>-68.773996</td>\n      <td>-38.311019</td>\n      <td>Sin Proyecto</td>\n      <td>EXPLOTACION</td>\n      <td>SHALE</td>\n      <td>desviado</td>\n      <td>162.0</td>\n      <td>2021-03-01</td>\n    </tr>\n  </tbody>\n</table>\n<p>163 rows × 26 columns</p>\n</div>"
     },
     "metadata": {},
     "execution_count": 34
    }
   ],
   "source": [
    "mask = data_YPF['sigla'] == 'YPF.Nq.LLL-685(d)'\r\n",
    "data_YPF[mask]"
   ]
  },
  {
   "cell_type": "code",
   "execution_count": 35,
   "metadata": {},
   "outputs": [
    {
     "output_type": "execute_result",
     "data": {
      "text/plain": [
       "(86,)"
      ]
     },
     "metadata": {},
     "execution_count": 35
    }
   ],
   "source": [
    "data_YPF[mask][['fecha','conteo_mes','mes','anio','prod_pet']]['fecha'].unique().shape"
   ]
  },
  {
   "cell_type": "code",
   "execution_count": 36,
   "metadata": {},
   "outputs": [
    {
     "output_type": "execute_result",
     "data": {
      "text/plain": [
       "           fecha  conteo_mes  mes  anio  prod_pet\n",
       "38826 2016-07-01        29.0    7  2016     63.55\n",
       "63908 2016-07-01       106.0    7  2016    148.29"
      ],
      "text/html": "<div>\n<style scoped>\n    .dataframe tbody tr th:only-of-type {\n        vertical-align: middle;\n    }\n\n    .dataframe tbody tr th {\n        vertical-align: top;\n    }\n\n    .dataframe thead th {\n        text-align: right;\n    }\n</style>\n<table border=\"1\" class=\"dataframe\">\n  <thead>\n    <tr style=\"text-align: right;\">\n      <th></th>\n      <th>fecha</th>\n      <th>conteo_mes</th>\n      <th>mes</th>\n      <th>anio</th>\n      <th>prod_pet</th>\n    </tr>\n  </thead>\n  <tbody>\n    <tr>\n      <th>38826</th>\n      <td>2016-07-01</td>\n      <td>29.0</td>\n      <td>7</td>\n      <td>2016</td>\n      <td>63.55</td>\n    </tr>\n    <tr>\n      <th>63908</th>\n      <td>2016-07-01</td>\n      <td>106.0</td>\n      <td>7</td>\n      <td>2016</td>\n      <td>148.29</td>\n    </tr>\n  </tbody>\n</table>\n</div>"
     },
     "metadata": {},
     "execution_count": 36
    }
   ],
   "source": [
    "mask_fecha = data_YPF[mask][['fecha','conteo_mes','mes','anio','prod_pet']]['fecha'] == '2016-07-01'\r\n",
    "data_YPF[mask][mask_fecha][['fecha','conteo_mes','mes','anio','prod_pet']]"
   ]
  },
  {
   "cell_type": "markdown",
   "metadata": {},
   "source": [
    "# Se repiten las fechas porque se repiten los anios y meses dentro de un mismo pozo. Tengo que cambiar el modo en que se computa la fecha\r\n",
    "# Tengo que relacionar las tablas por silga, volver los idpozo a default y dropear duplicados de sigla"
   ]
  },
  {
   "cell_type": "code",
   "execution_count": 37,
   "metadata": {},
   "outputs": [
    {
     "output_type": "execute_result",
     "data": {
      "text/plain": [
       "DatetimeIndex(['2005-05-01', '2005-06-01', '2005-07-01', '2005-08-01'], dtype='datetime64[ns]', freq='<DateOffset: day=1, months=1>')"
      ]
     },
     "metadata": {},
     "execution_count": 37
    }
   ],
   "source": [
    "pd.date_range('2005-05-01', periods=4, freq=pd.DateOffset(months=1, day=1))\r\n"
   ]
  },
  {
   "cell_type": "code",
   "execution_count": 38,
   "metadata": {},
   "outputs": [
    {
     "output_type": "execute_result",
     "data": {
      "text/plain": [
       "DatetimeIndex(['2005-05-01', '2005-06-01', '2005-07-01', '2005-08-01'], dtype='datetime64[ns]', freq='<DateOffset: day=1, months=1>')"
      ]
     },
     "metadata": {},
     "execution_count": 38
    }
   ],
   "source": [
    "pd.date_range('2005-05-01', periods=4, freq=pd.DateOffset(months=1, day=1))"
   ]
  }
 ],
 "metadata": {
  "kernelspec": {
   "name": "python379jvsc74a57bd05419df35e02533102c5c32f040f901a1ee0e4ec2b3b14f30653ab3a9ba5e394d",
   "display_name": "Python 3.7.9 64-bit"
  },
  "language_info": {
   "codemirror_mode": {
    "name": "ipython",
    "version": 3
   },
   "file_extension": ".py",
   "mimetype": "text/x-python",
   "name": "python",
   "nbconvert_exporter": "python",
   "pygments_lexer": "ipython3",
   "version": "3.7.9"
  },
  "metadata": {
   "interpreter": {
    "hash": "5419df35e02533102c5c32f040f901a1ee0e4ec2b3b14f30653ab3a9ba5e394d"
   }
  }
 },
 "nbformat": 4,
 "nbformat_minor": 4
}