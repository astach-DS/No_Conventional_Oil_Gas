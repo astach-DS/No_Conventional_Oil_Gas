{
 "cells": [
  {
   "cell_type": "code",
   "execution_count": 2,
   "metadata": {},
   "outputs": [],
   "source": [
    "import pandas as pd\r\n",
    "import plotly.express as px"
   ]
  },
  {
   "cell_type": "code",
   "execution_count": 3,
   "metadata": {},
   "outputs": [],
   "source": [
    "df = pd.read_csv(\"info_pozos.csv\")\r\n",
    "empresas = df['empresa'].unique()\r\n",
    "\r\n",
    "df = df.groupby(['empresa','año_inicio_perf','trayectoria']).aggregate({'sigla':'count'})\r\n",
    "df.reset_index(inplace=True)"
   ]
  },
  {
   "cell_type": "code",
   "execution_count": 5,
   "metadata": {},
   "outputs": [
    {
     "data": {
      "text/html": "<div>\n<style scoped>\n    .dataframe tbody tr th:only-of-type {\n        vertical-align: middle;\n    }\n\n    .dataframe tbody tr th {\n        vertical-align: top;\n    }\n\n    .dataframe thead th {\n        text-align: right;\n    }\n</style>\n<table border=\"1\" class=\"dataframe\">\n  <thead>\n    <tr style=\"text-align: right;\">\n      <th></th>\n      <th>empresa</th>\n      <th>año_inicio_perf</th>\n      <th>trayectoria</th>\n      <th>sigla</th>\n    </tr>\n  </thead>\n  <tbody>\n    <tr>\n      <th>230</th>\n      <td>YPF S.A.</td>\n      <td>1910.0</td>\n      <td>desviado</td>\n      <td>5</td>\n    </tr>\n    <tr>\n      <th>231</th>\n      <td>YPF S.A.</td>\n      <td>1910.0</td>\n      <td>horizontal</td>\n      <td>1</td>\n    </tr>\n    <tr>\n      <th>232</th>\n      <td>YPF S.A.</td>\n      <td>1910.0</td>\n      <td>vertical</td>\n      <td>3</td>\n    </tr>\n    <tr>\n      <th>233</th>\n      <td>YPF S.A.</td>\n      <td>1975.0</td>\n      <td>vertical</td>\n      <td>1</td>\n    </tr>\n    <tr>\n      <th>234</th>\n      <td>YPF S.A.</td>\n      <td>1983.0</td>\n      <td>vertical</td>\n      <td>1</td>\n    </tr>\n    <tr>\n      <th>235</th>\n      <td>YPF S.A.</td>\n      <td>1984.0</td>\n      <td>vertical</td>\n      <td>2</td>\n    </tr>\n    <tr>\n      <th>236</th>\n      <td>YPF S.A.</td>\n      <td>1985.0</td>\n      <td>vertical</td>\n      <td>1</td>\n    </tr>\n    <tr>\n      <th>237</th>\n      <td>YPF S.A.</td>\n      <td>1986.0</td>\n      <td>vertical</td>\n      <td>1</td>\n    </tr>\n    <tr>\n      <th>238</th>\n      <td>YPF S.A.</td>\n      <td>1995.0</td>\n      <td>vertical</td>\n      <td>1</td>\n    </tr>\n    <tr>\n      <th>239</th>\n      <td>YPF S.A.</td>\n      <td>1997.0</td>\n      <td>vertical</td>\n      <td>1</td>\n    </tr>\n    <tr>\n      <th>240</th>\n      <td>YPF S.A.</td>\n      <td>1998.0</td>\n      <td>vertical</td>\n      <td>1</td>\n    </tr>\n    <tr>\n      <th>241</th>\n      <td>YPF S.A.</td>\n      <td>1999.0</td>\n      <td>vertical</td>\n      <td>2</td>\n    </tr>\n    <tr>\n      <th>242</th>\n      <td>YPF S.A.</td>\n      <td>2000.0</td>\n      <td>vertical</td>\n      <td>2</td>\n    </tr>\n    <tr>\n      <th>243</th>\n      <td>YPF S.A.</td>\n      <td>2003.0</td>\n      <td>vertical</td>\n      <td>2</td>\n    </tr>\n    <tr>\n      <th>244</th>\n      <td>YPF S.A.</td>\n      <td>2004.0</td>\n      <td>vertical</td>\n      <td>3</td>\n    </tr>\n    <tr>\n      <th>245</th>\n      <td>YPF S.A.</td>\n      <td>2005.0</td>\n      <td>vertical</td>\n      <td>6</td>\n    </tr>\n    <tr>\n      <th>246</th>\n      <td>YPF S.A.</td>\n      <td>2006.0</td>\n      <td>vertical</td>\n      <td>3</td>\n    </tr>\n    <tr>\n      <th>247</th>\n      <td>YPF S.A.</td>\n      <td>2007.0</td>\n      <td>desviado</td>\n      <td>1</td>\n    </tr>\n    <tr>\n      <th>248</th>\n      <td>YPF S.A.</td>\n      <td>2007.0</td>\n      <td>vertical</td>\n      <td>2</td>\n    </tr>\n    <tr>\n      <th>249</th>\n      <td>YPF S.A.</td>\n      <td>2008.0</td>\n      <td>desviado</td>\n      <td>10</td>\n    </tr>\n    <tr>\n      <th>250</th>\n      <td>YPF S.A.</td>\n      <td>2008.0</td>\n      <td>vertical</td>\n      <td>8</td>\n    </tr>\n    <tr>\n      <th>251</th>\n      <td>YPF S.A.</td>\n      <td>2009.0</td>\n      <td>desviado</td>\n      <td>2</td>\n    </tr>\n    <tr>\n      <th>252</th>\n      <td>YPF S.A.</td>\n      <td>2009.0</td>\n      <td>vertical</td>\n      <td>6</td>\n    </tr>\n    <tr>\n      <th>253</th>\n      <td>YPF S.A.</td>\n      <td>2010.0</td>\n      <td>desviado</td>\n      <td>11</td>\n    </tr>\n    <tr>\n      <th>254</th>\n      <td>YPF S.A.</td>\n      <td>2010.0</td>\n      <td>horizontal</td>\n      <td>1</td>\n    </tr>\n    <tr>\n      <th>255</th>\n      <td>YPF S.A.</td>\n      <td>2010.0</td>\n      <td>vertical</td>\n      <td>7</td>\n    </tr>\n    <tr>\n      <th>256</th>\n      <td>YPF S.A.</td>\n      <td>2011.0</td>\n      <td>desviado</td>\n      <td>13</td>\n    </tr>\n    <tr>\n      <th>257</th>\n      <td>YPF S.A.</td>\n      <td>2011.0</td>\n      <td>horizontal</td>\n      <td>4</td>\n    </tr>\n    <tr>\n      <th>258</th>\n      <td>YPF S.A.</td>\n      <td>2011.0</td>\n      <td>vertical</td>\n      <td>23</td>\n    </tr>\n    <tr>\n      <th>259</th>\n      <td>YPF S.A.</td>\n      <td>2012.0</td>\n      <td>desviado</td>\n      <td>36</td>\n    </tr>\n    <tr>\n      <th>260</th>\n      <td>YPF S.A.</td>\n      <td>2012.0</td>\n      <td>horizontal</td>\n      <td>3</td>\n    </tr>\n    <tr>\n      <th>261</th>\n      <td>YPF S.A.</td>\n      <td>2012.0</td>\n      <td>vertical</td>\n      <td>26</td>\n    </tr>\n    <tr>\n      <th>262</th>\n      <td>YPF S.A.</td>\n      <td>2013.0</td>\n      <td>desviado</td>\n      <td>129</td>\n    </tr>\n    <tr>\n      <th>263</th>\n      <td>YPF S.A.</td>\n      <td>2013.0</td>\n      <td>horizontal</td>\n      <td>4</td>\n    </tr>\n    <tr>\n      <th>264</th>\n      <td>YPF S.A.</td>\n      <td>2013.0</td>\n      <td>vertical</td>\n      <td>35</td>\n    </tr>\n    <tr>\n      <th>265</th>\n      <td>YPF S.A.</td>\n      <td>2014.0</td>\n      <td>desviado</td>\n      <td>222</td>\n    </tr>\n    <tr>\n      <th>266</th>\n      <td>YPF S.A.</td>\n      <td>2014.0</td>\n      <td>horizontal</td>\n      <td>12</td>\n    </tr>\n    <tr>\n      <th>267</th>\n      <td>YPF S.A.</td>\n      <td>2014.0</td>\n      <td>vertical</td>\n      <td>40</td>\n    </tr>\n    <tr>\n      <th>268</th>\n      <td>YPF S.A.</td>\n      <td>2015.0</td>\n      <td>desviado</td>\n      <td>190</td>\n    </tr>\n    <tr>\n      <th>269</th>\n      <td>YPF S.A.</td>\n      <td>2015.0</td>\n      <td>horizontal</td>\n      <td>63</td>\n    </tr>\n    <tr>\n      <th>270</th>\n      <td>YPF S.A.</td>\n      <td>2015.0</td>\n      <td>vertical</td>\n      <td>26</td>\n    </tr>\n    <tr>\n      <th>271</th>\n      <td>YPF S.A.</td>\n      <td>2016.0</td>\n      <td>desviado</td>\n      <td>86</td>\n    </tr>\n    <tr>\n      <th>272</th>\n      <td>YPF S.A.</td>\n      <td>2016.0</td>\n      <td>horizontal</td>\n      <td>97</td>\n    </tr>\n    <tr>\n      <th>273</th>\n      <td>YPF S.A.</td>\n      <td>2016.0</td>\n      <td>vertical</td>\n      <td>6</td>\n    </tr>\n    <tr>\n      <th>274</th>\n      <td>YPF S.A.</td>\n      <td>2017.0</td>\n      <td>desviado</td>\n      <td>76</td>\n    </tr>\n    <tr>\n      <th>275</th>\n      <td>YPF S.A.</td>\n      <td>2017.0</td>\n      <td>horizontal</td>\n      <td>78</td>\n    </tr>\n    <tr>\n      <th>276</th>\n      <td>YPF S.A.</td>\n      <td>2017.0</td>\n      <td>vertical</td>\n      <td>11</td>\n    </tr>\n    <tr>\n      <th>277</th>\n      <td>YPF S.A.</td>\n      <td>2018.0</td>\n      <td>desviado</td>\n      <td>44</td>\n    </tr>\n    <tr>\n      <th>278</th>\n      <td>YPF S.A.</td>\n      <td>2018.0</td>\n      <td>horizontal</td>\n      <td>90</td>\n    </tr>\n    <tr>\n      <th>279</th>\n      <td>YPF S.A.</td>\n      <td>2018.0</td>\n      <td>vertical</td>\n      <td>3</td>\n    </tr>\n    <tr>\n      <th>280</th>\n      <td>YPF S.A.</td>\n      <td>2019.0</td>\n      <td>desviado</td>\n      <td>12</td>\n    </tr>\n    <tr>\n      <th>281</th>\n      <td>YPF S.A.</td>\n      <td>2019.0</td>\n      <td>horizontal</td>\n      <td>85</td>\n    </tr>\n    <tr>\n      <th>282</th>\n      <td>YPF S.A.</td>\n      <td>2019.0</td>\n      <td>vertical</td>\n      <td>1</td>\n    </tr>\n  </tbody>\n</table>\n</div>",
      "text/plain": "      empresa  año_inicio_perf trayectoria  sigla\n230  YPF S.A.           1910.0    desviado      5\n231  YPF S.A.           1910.0  horizontal      1\n232  YPF S.A.           1910.0    vertical      3\n233  YPF S.A.           1975.0    vertical      1\n234  YPF S.A.           1983.0    vertical      1\n235  YPF S.A.           1984.0    vertical      2\n236  YPF S.A.           1985.0    vertical      1\n237  YPF S.A.           1986.0    vertical      1\n238  YPF S.A.           1995.0    vertical      1\n239  YPF S.A.           1997.0    vertical      1\n240  YPF S.A.           1998.0    vertical      1\n241  YPF S.A.           1999.0    vertical      2\n242  YPF S.A.           2000.0    vertical      2\n243  YPF S.A.           2003.0    vertical      2\n244  YPF S.A.           2004.0    vertical      3\n245  YPF S.A.           2005.0    vertical      6\n246  YPF S.A.           2006.0    vertical      3\n247  YPF S.A.           2007.0    desviado      1\n248  YPF S.A.           2007.0    vertical      2\n249  YPF S.A.           2008.0    desviado     10\n250  YPF S.A.           2008.0    vertical      8\n251  YPF S.A.           2009.0    desviado      2\n252  YPF S.A.           2009.0    vertical      6\n253  YPF S.A.           2010.0    desviado     11\n254  YPF S.A.           2010.0  horizontal      1\n255  YPF S.A.           2010.0    vertical      7\n256  YPF S.A.           2011.0    desviado     13\n257  YPF S.A.           2011.0  horizontal      4\n258  YPF S.A.           2011.0    vertical     23\n259  YPF S.A.           2012.0    desviado     36\n260  YPF S.A.           2012.0  horizontal      3\n261  YPF S.A.           2012.0    vertical     26\n262  YPF S.A.           2013.0    desviado    129\n263  YPF S.A.           2013.0  horizontal      4\n264  YPF S.A.           2013.0    vertical     35\n265  YPF S.A.           2014.0    desviado    222\n266  YPF S.A.           2014.0  horizontal     12\n267  YPF S.A.           2014.0    vertical     40\n268  YPF S.A.           2015.0    desviado    190\n269  YPF S.A.           2015.0  horizontal     63\n270  YPF S.A.           2015.0    vertical     26\n271  YPF S.A.           2016.0    desviado     86\n272  YPF S.A.           2016.0  horizontal     97\n273  YPF S.A.           2016.0    vertical      6\n274  YPF S.A.           2017.0    desviado     76\n275  YPF S.A.           2017.0  horizontal     78\n276  YPF S.A.           2017.0    vertical     11\n277  YPF S.A.           2018.0    desviado     44\n278  YPF S.A.           2018.0  horizontal     90\n279  YPF S.A.           2018.0    vertical      3\n280  YPF S.A.           2019.0    desviado     12\n281  YPF S.A.           2019.0  horizontal     85\n282  YPF S.A.           2019.0    vertical      1"
     },
     "execution_count": 5,
     "metadata": {},
     "output_type": "execute_result"
    }
   ],
   "source": [
    "dff = df.copy()\r\n",
    "dff = dff[dff[\"empresa\"] == 'YPF S.A.']\r\n",
    "dff"
   ]
  },
  {
   "cell_type": "code",
   "execution_count": 6,
   "metadata": {},
   "outputs": [
    {
     "data": {
      "application/vnd.plotly.v1+json": {
       "config": {
        "plotlyServerURL": "https://plot.ly"
       },
       "data": [
        {
         "alignmentgroup": "True",
         "hovertemplate": "trayectoria=desviado<br>año_inicio_perf=%{x}<br>sigla=%{y}<extra></extra>",
         "legendgroup": "desviado",
         "marker": {
          "color": "#636efa"
         },
         "name": "desviado",
         "offsetgroup": "desviado",
         "orientation": "v",
         "showlegend": true,
         "textposition": "auto",
         "type": "bar",
         "x": [
          1910,
          2007,
          2008,
          2009,
          2010,
          2011,
          2012,
          2013,
          2014,
          2015,
          2016,
          2017,
          2018,
          2019
         ],
         "xaxis": "x",
         "y": [
          5,
          1,
          10,
          2,
          11,
          13,
          36,
          129,
          222,
          190,
          86,
          76,
          44,
          12
         ],
         "yaxis": "y"
        },
        {
         "alignmentgroup": "True",
         "hovertemplate": "trayectoria=horizontal<br>año_inicio_perf=%{x}<br>sigla=%{y}<extra></extra>",
         "legendgroup": "horizontal",
         "marker": {
          "color": "#EF553B"
         },
         "name": "horizontal",
         "offsetgroup": "horizontal",
         "orientation": "v",
         "showlegend": true,
         "textposition": "auto",
         "type": "bar",
         "x": [
          1910,
          2010,
          2011,
          2012,
          2013,
          2014,
          2015,
          2016,
          2017,
          2018,
          2019
         ],
         "xaxis": "x",
         "y": [
          1,
          1,
          4,
          3,
          4,
          12,
          63,
          97,
          78,
          90,
          85
         ],
         "yaxis": "y"
        },
        {
         "alignmentgroup": "True",
         "hovertemplate": "trayectoria=vertical<br>año_inicio_perf=%{x}<br>sigla=%{y}<extra></extra>",
         "legendgroup": "vertical",
         "marker": {
          "color": "#00cc96"
         },
         "name": "vertical",
         "offsetgroup": "vertical",
         "orientation": "v",
         "showlegend": true,
         "textposition": "auto",
         "type": "bar",
         "x": [
          1910,
          1975,
          1983,
          1984,
          1985,
          1986,
          1995,
          1997,
          1998,
          1999,
          2000,
          2003,
          2004,
          2005,
          2006,
          2007,
          2008,
          2009,
          2010,
          2011,
          2012,
          2013,
          2014,
          2015,
          2016,
          2017,
          2018,
          2019
         ],
         "xaxis": "x",
         "y": [
          3,
          1,
          1,
          2,
          1,
          1,
          1,
          1,
          1,
          2,
          2,
          2,
          3,
          6,
          3,
          2,
          8,
          6,
          7,
          23,
          26,
          35,
          40,
          26,
          6,
          11,
          3,
          1
         ],
         "yaxis": "y"
        }
       ],
       "layout": {
        "barmode": "relative",
        "legend": {
         "title": {
          "text": "trayectoria"
         },
         "tracegroupgap": 0
        },
        "margin": {
         "t": 60
        },
        "template": {
         "data": {
          "bar": [
           {
            "error_x": {
             "color": "#2a3f5f"
            },
            "error_y": {
             "color": "#2a3f5f"
            },
            "marker": {
             "line": {
              "color": "#E5ECF6",
              "width": 0.5
             }
            },
            "type": "bar"
           }
          ],
          "barpolar": [
           {
            "marker": {
             "line": {
              "color": "#E5ECF6",
              "width": 0.5
             }
            },
            "type": "barpolar"
           }
          ],
          "carpet": [
           {
            "aaxis": {
             "endlinecolor": "#2a3f5f",
             "gridcolor": "white",
             "linecolor": "white",
             "minorgridcolor": "white",
             "startlinecolor": "#2a3f5f"
            },
            "baxis": {
             "endlinecolor": "#2a3f5f",
             "gridcolor": "white",
             "linecolor": "white",
             "minorgridcolor": "white",
             "startlinecolor": "#2a3f5f"
            },
            "type": "carpet"
           }
          ],
          "choropleth": [
           {
            "colorbar": {
             "outlinewidth": 0,
             "ticks": ""
            },
            "type": "choropleth"
           }
          ],
          "contour": [
           {
            "colorbar": {
             "outlinewidth": 0,
             "ticks": ""
            },
            "colorscale": [
             [
              0,
              "#0d0887"
             ],
             [
              0.1111111111111111,
              "#46039f"
             ],
             [
              0.2222222222222222,
              "#7201a8"
             ],
             [
              0.3333333333333333,
              "#9c179e"
             ],
             [
              0.4444444444444444,
              "#bd3786"
             ],
             [
              0.5555555555555556,
              "#d8576b"
             ],
             [
              0.6666666666666666,
              "#ed7953"
             ],
             [
              0.7777777777777778,
              "#fb9f3a"
             ],
             [
              0.8888888888888888,
              "#fdca26"
             ],
             [
              1,
              "#f0f921"
             ]
            ],
            "type": "contour"
           }
          ],
          "contourcarpet": [
           {
            "colorbar": {
             "outlinewidth": 0,
             "ticks": ""
            },
            "type": "contourcarpet"
           }
          ],
          "heatmap": [
           {
            "colorbar": {
             "outlinewidth": 0,
             "ticks": ""
            },
            "colorscale": [
             [
              0,
              "#0d0887"
             ],
             [
              0.1111111111111111,
              "#46039f"
             ],
             [
              0.2222222222222222,
              "#7201a8"
             ],
             [
              0.3333333333333333,
              "#9c179e"
             ],
             [
              0.4444444444444444,
              "#bd3786"
             ],
             [
              0.5555555555555556,
              "#d8576b"
             ],
             [
              0.6666666666666666,
              "#ed7953"
             ],
             [
              0.7777777777777778,
              "#fb9f3a"
             ],
             [
              0.8888888888888888,
              "#fdca26"
             ],
             [
              1,
              "#f0f921"
             ]
            ],
            "type": "heatmap"
           }
          ],
          "heatmapgl": [
           {
            "colorbar": {
             "outlinewidth": 0,
             "ticks": ""
            },
            "colorscale": [
             [
              0,
              "#0d0887"
             ],
             [
              0.1111111111111111,
              "#46039f"
             ],
             [
              0.2222222222222222,
              "#7201a8"
             ],
             [
              0.3333333333333333,
              "#9c179e"
             ],
             [
              0.4444444444444444,
              "#bd3786"
             ],
             [
              0.5555555555555556,
              "#d8576b"
             ],
             [
              0.6666666666666666,
              "#ed7953"
             ],
             [
              0.7777777777777778,
              "#fb9f3a"
             ],
             [
              0.8888888888888888,
              "#fdca26"
             ],
             [
              1,
              "#f0f921"
             ]
            ],
            "type": "heatmapgl"
           }
          ],
          "histogram": [
           {
            "marker": {
             "colorbar": {
              "outlinewidth": 0,
              "ticks": ""
             }
            },
            "type": "histogram"
           }
          ],
          "histogram2d": [
           {
            "colorbar": {
             "outlinewidth": 0,
             "ticks": ""
            },
            "colorscale": [
             [
              0,
              "#0d0887"
             ],
             [
              0.1111111111111111,
              "#46039f"
             ],
             [
              0.2222222222222222,
              "#7201a8"
             ],
             [
              0.3333333333333333,
              "#9c179e"
             ],
             [
              0.4444444444444444,
              "#bd3786"
             ],
             [
              0.5555555555555556,
              "#d8576b"
             ],
             [
              0.6666666666666666,
              "#ed7953"
             ],
             [
              0.7777777777777778,
              "#fb9f3a"
             ],
             [
              0.8888888888888888,
              "#fdca26"
             ],
             [
              1,
              "#f0f921"
             ]
            ],
            "type": "histogram2d"
           }
          ],
          "histogram2dcontour": [
           {
            "colorbar": {
             "outlinewidth": 0,
             "ticks": ""
            },
            "colorscale": [
             [
              0,
              "#0d0887"
             ],
             [
              0.1111111111111111,
              "#46039f"
             ],
             [
              0.2222222222222222,
              "#7201a8"
             ],
             [
              0.3333333333333333,
              "#9c179e"
             ],
             [
              0.4444444444444444,
              "#bd3786"
             ],
             [
              0.5555555555555556,
              "#d8576b"
             ],
             [
              0.6666666666666666,
              "#ed7953"
             ],
             [
              0.7777777777777778,
              "#fb9f3a"
             ],
             [
              0.8888888888888888,
              "#fdca26"
             ],
             [
              1,
              "#f0f921"
             ]
            ],
            "type": "histogram2dcontour"
           }
          ],
          "mesh3d": [
           {
            "colorbar": {
             "outlinewidth": 0,
             "ticks": ""
            },
            "type": "mesh3d"
           }
          ],
          "parcoords": [
           {
            "line": {
             "colorbar": {
              "outlinewidth": 0,
              "ticks": ""
             }
            },
            "type": "parcoords"
           }
          ],
          "pie": [
           {
            "automargin": true,
            "type": "pie"
           }
          ],
          "scatter": [
           {
            "marker": {
             "colorbar": {
              "outlinewidth": 0,
              "ticks": ""
             }
            },
            "type": "scatter"
           }
          ],
          "scatter3d": [
           {
            "line": {
             "colorbar": {
              "outlinewidth": 0,
              "ticks": ""
             }
            },
            "marker": {
             "colorbar": {
              "outlinewidth": 0,
              "ticks": ""
             }
            },
            "type": "scatter3d"
           }
          ],
          "scattercarpet": [
           {
            "marker": {
             "colorbar": {
              "outlinewidth": 0,
              "ticks": ""
             }
            },
            "type": "scattercarpet"
           }
          ],
          "scattergeo": [
           {
            "marker": {
             "colorbar": {
              "outlinewidth": 0,
              "ticks": ""
             }
            },
            "type": "scattergeo"
           }
          ],
          "scattergl": [
           {
            "marker": {
             "colorbar": {
              "outlinewidth": 0,
              "ticks": ""
             }
            },
            "type": "scattergl"
           }
          ],
          "scattermapbox": [
           {
            "marker": {
             "colorbar": {
              "outlinewidth": 0,
              "ticks": ""
             }
            },
            "type": "scattermapbox"
           }
          ],
          "scatterpolar": [
           {
            "marker": {
             "colorbar": {
              "outlinewidth": 0,
              "ticks": ""
             }
            },
            "type": "scatterpolar"
           }
          ],
          "scatterpolargl": [
           {
            "marker": {
             "colorbar": {
              "outlinewidth": 0,
              "ticks": ""
             }
            },
            "type": "scatterpolargl"
           }
          ],
          "scatterternary": [
           {
            "marker": {
             "colorbar": {
              "outlinewidth": 0,
              "ticks": ""
             }
            },
            "type": "scatterternary"
           }
          ],
          "surface": [
           {
            "colorbar": {
             "outlinewidth": 0,
             "ticks": ""
            },
            "colorscale": [
             [
              0,
              "#0d0887"
             ],
             [
              0.1111111111111111,
              "#46039f"
             ],
             [
              0.2222222222222222,
              "#7201a8"
             ],
             [
              0.3333333333333333,
              "#9c179e"
             ],
             [
              0.4444444444444444,
              "#bd3786"
             ],
             [
              0.5555555555555556,
              "#d8576b"
             ],
             [
              0.6666666666666666,
              "#ed7953"
             ],
             [
              0.7777777777777778,
              "#fb9f3a"
             ],
             [
              0.8888888888888888,
              "#fdca26"
             ],
             [
              1,
              "#f0f921"
             ]
            ],
            "type": "surface"
           }
          ],
          "table": [
           {
            "cells": {
             "fill": {
              "color": "#EBF0F8"
             },
             "line": {
              "color": "white"
             }
            },
            "header": {
             "fill": {
              "color": "#C8D4E3"
             },
             "line": {
              "color": "white"
             }
            },
            "type": "table"
           }
          ]
         },
         "layout": {
          "annotationdefaults": {
           "arrowcolor": "#2a3f5f",
           "arrowhead": 0,
           "arrowwidth": 1
          },
          "autotypenumbers": "strict",
          "coloraxis": {
           "colorbar": {
            "outlinewidth": 0,
            "ticks": ""
           }
          },
          "colorscale": {
           "diverging": [
            [
             0,
             "#8e0152"
            ],
            [
             0.1,
             "#c51b7d"
            ],
            [
             0.2,
             "#de77ae"
            ],
            [
             0.3,
             "#f1b6da"
            ],
            [
             0.4,
             "#fde0ef"
            ],
            [
             0.5,
             "#f7f7f7"
            ],
            [
             0.6,
             "#e6f5d0"
            ],
            [
             0.7,
             "#b8e186"
            ],
            [
             0.8,
             "#7fbc41"
            ],
            [
             0.9,
             "#4d9221"
            ],
            [
             1,
             "#276419"
            ]
           ],
           "sequential": [
            [
             0,
             "#0d0887"
            ],
            [
             0.1111111111111111,
             "#46039f"
            ],
            [
             0.2222222222222222,
             "#7201a8"
            ],
            [
             0.3333333333333333,
             "#9c179e"
            ],
            [
             0.4444444444444444,
             "#bd3786"
            ],
            [
             0.5555555555555556,
             "#d8576b"
            ],
            [
             0.6666666666666666,
             "#ed7953"
            ],
            [
             0.7777777777777778,
             "#fb9f3a"
            ],
            [
             0.8888888888888888,
             "#fdca26"
            ],
            [
             1,
             "#f0f921"
            ]
           ],
           "sequentialminus": [
            [
             0,
             "#0d0887"
            ],
            [
             0.1111111111111111,
             "#46039f"
            ],
            [
             0.2222222222222222,
             "#7201a8"
            ],
            [
             0.3333333333333333,
             "#9c179e"
            ],
            [
             0.4444444444444444,
             "#bd3786"
            ],
            [
             0.5555555555555556,
             "#d8576b"
            ],
            [
             0.6666666666666666,
             "#ed7953"
            ],
            [
             0.7777777777777778,
             "#fb9f3a"
            ],
            [
             0.8888888888888888,
             "#fdca26"
            ],
            [
             1,
             "#f0f921"
            ]
           ]
          },
          "colorway": [
           "#636efa",
           "#EF553B",
           "#00cc96",
           "#ab63fa",
           "#FFA15A",
           "#19d3f3",
           "#FF6692",
           "#B6E880",
           "#FF97FF",
           "#FECB52"
          ],
          "font": {
           "color": "#2a3f5f"
          },
          "geo": {
           "bgcolor": "white",
           "lakecolor": "white",
           "landcolor": "#E5ECF6",
           "showlakes": true,
           "showland": true,
           "subunitcolor": "white"
          },
          "hoverlabel": {
           "align": "left"
          },
          "hovermode": "closest",
          "mapbox": {
           "style": "light"
          },
          "paper_bgcolor": "white",
          "plot_bgcolor": "#E5ECF6",
          "polar": {
           "angularaxis": {
            "gridcolor": "white",
            "linecolor": "white",
            "ticks": ""
           },
           "bgcolor": "#E5ECF6",
           "radialaxis": {
            "gridcolor": "white",
            "linecolor": "white",
            "ticks": ""
           }
          },
          "scene": {
           "xaxis": {
            "backgroundcolor": "#E5ECF6",
            "gridcolor": "white",
            "gridwidth": 2,
            "linecolor": "white",
            "showbackground": true,
            "ticks": "",
            "zerolinecolor": "white"
           },
           "yaxis": {
            "backgroundcolor": "#E5ECF6",
            "gridcolor": "white",
            "gridwidth": 2,
            "linecolor": "white",
            "showbackground": true,
            "ticks": "",
            "zerolinecolor": "white"
           },
           "zaxis": {
            "backgroundcolor": "#E5ECF6",
            "gridcolor": "white",
            "gridwidth": 2,
            "linecolor": "white",
            "showbackground": true,
            "ticks": "",
            "zerolinecolor": "white"
           }
          },
          "shapedefaults": {
           "line": {
            "color": "#2a3f5f"
           }
          },
          "ternary": {
           "aaxis": {
            "gridcolor": "white",
            "linecolor": "white",
            "ticks": ""
           },
           "baxis": {
            "gridcolor": "white",
            "linecolor": "white",
            "ticks": ""
           },
           "bgcolor": "#E5ECF6",
           "caxis": {
            "gridcolor": "white",
            "linecolor": "white",
            "ticks": ""
           }
          },
          "title": {
           "x": 0.05
          },
          "xaxis": {
           "automargin": true,
           "gridcolor": "white",
           "linecolor": "white",
           "ticks": "",
           "title": {
            "standoff": 15
           },
           "zerolinecolor": "white",
           "zerolinewidth": 2
          },
          "yaxis": {
           "automargin": true,
           "gridcolor": "white",
           "linecolor": "white",
           "ticks": "",
           "title": {
            "standoff": 15
           },
           "zerolinecolor": "white",
           "zerolinewidth": 2
          }
         }
        },
        "xaxis": {
         "anchor": "y",
         "domain": [
          0,
          1
         ],
         "title": {
          "text": "año_inicio_perf"
         }
        },
        "yaxis": {
         "anchor": "x",
         "domain": [
          0,
          1
         ],
         "title": {
          "text": "sigla"
         }
        }
       }
      }
     },
     "metadata": {},
     "output_type": "display_data"
    }
   ],
   "source": [
    "fig = px.bar(dff, x='año_inicio_perf', y='sigla',color='trayectoria')\r\n",
    "fig.show()"
   ]
  }
 ],
 "metadata": {
  "kernelspec": {
   "display_name": "Python 3.7.9 64-bit",
   "name": "python379jvsc74a57bd0f6c8ba5124c03c91eaa1e96608bdaa6103fb4dbc4f80eb88b2ed804d27da97b2"
  },
  "language_info": {
   "codemirror_mode": {
    "name": "ipython",
    "version": 3
   },
   "file_extension": ".py",
   "mimetype": "text/x-python",
   "name": "python",
   "nbconvert_exporter": "python",
   "pygments_lexer": "ipython3",
   "version": "3.7.9"
  },
  "metadata": {
   "interpreter": {
    "hash": "f6c8ba5124c03c91eaa1e96608bdaa6103fb4dbc4f80eb88b2ed804d27da97b2"
   }
  },
  "orig_nbformat": 2
 },
 "nbformat": 4,
 "nbformat_minor": 2
}